{
 "cells": [
  {
   "cell_type": "code",
   "execution_count": 1,
   "id": "7c7793bf",
   "metadata": {},
   "outputs": [],
   "source": [
    "import re\n",
    "from bs4 import BeautifulSoup\n",
    "import requests\n",
    "import numpy as np\n",
    "import pandas as pd"
   ]
  },
  {
   "cell_type": "code",
   "execution_count": 2,
   "id": "87822c9c",
   "metadata": {},
   "outputs": [
    {
     "data": {
      "text/plain": [
       "<Response [200]>"
      ]
     },
     "execution_count": 2,
     "metadata": {},
     "output_type": "execute_result"
    }
   ],
   "source": [
    "url1='https://www.skinnytaste.com/recipe-index/?_course=dinner-recipes'\n",
    "page=requests.get(url1)\n",
    "page"
   ]
  },
  {
   "cell_type": "code",
   "execution_count": 3,
   "id": "1f2883b9",
   "metadata": {},
   "outputs": [],
   "source": [
    "soup = BeautifulSoup(page.text)\n",
    "#soup"
   ]
  },
  {
   "cell_type": "code",
   "execution_count": 4,
   "id": "807bfcec",
   "metadata": {},
   "outputs": [],
   "source": [
    "main=soup.find_all('span',class_='wprm-total-time')\n",
    "#main"
   ]
  },
  {
   "cell_type": "code",
   "execution_count": 1,
   "id": "cfb7af85",
   "metadata": {},
   "outputs": [
    {
     "data": {
      "text/plain": [
       "['https://www.skinnytaste.com/recipe-index/?_course=dinner-recipes',\n",
       " 'https://www.skinnytaste.com/recipe-index/?_course=dinner-recipes&_paged=2',\n",
       " 'https://www.skinnytaste.com/recipe-index/?_course=dinner-recipes&_paged=3',\n",
       " 'https://www.skinnytaste.com/recipe-index/?_course=dinner-recipes&_paged=4',\n",
       " 'https://www.skinnytaste.com/recipe-index/?_course=dinner-recipes&_paged=5',\n",
       " 'https://www.skinnytaste.com/recipe-index/?_course=dinner-recipes&_paged=6',\n",
       " 'https://www.skinnytaste.com/recipe-index/?_course=dinner-recipes&_paged=7',\n",
       " 'https://www.skinnytaste.com/recipe-index/?_course=dinner-recipes&_paged=8',\n",
       " 'https://www.skinnytaste.com/recipe-index/?_course=dinner-recipes&_paged=9',\n",
       " 'https://www.skinnytaste.com/recipe-index/?_course=dinner-recipes&_paged=10']"
      ]
     },
     "execution_count": 1,
     "metadata": {},
     "output_type": "execute_result"
    }
   ],
   "source": [
    "URL=['https://www.skinnytaste.com/recipe-index/?_course=dinner-recipes']\n",
    "for i in range(2,11):\n",
    "    URL.append(URL[0]+'&_paged='+str(i))\n",
    "\n",
    "URL"
   ]
  },
  {
   "cell_type": "markdown",
   "id": "527386c1",
   "metadata": {},
   "source": [
    "## Time- column"
   ]
  },
  {
   "cell_type": "code",
   "execution_count": 5,
   "id": "43e0504a",
   "metadata": {},
   "outputs": [],
   "source": [
    "import numpy as np"
   ]
  },
  {
   "cell_type": "code",
   "execution_count": 12,
   "id": "ae763bf6",
   "metadata": {},
   "outputs": [
    {
     "data": {
      "text/plain": [
       "[nan,\n",
       " '4 hrs',\n",
       " '35 mins',\n",
       " '20 mins',\n",
       " '3 hrs 20 mins',\n",
       " '50 mins',\n",
       " '25 mins',\n",
       " '50 mins',\n",
       " '20 mins',\n",
       " '58 mins',\n",
       " '1 hr 5 mins',\n",
       " '20 mins',\n",
       " '2 hrs 15 mins',\n",
       " '45 mins',\n",
       " '2 hrs',\n",
       " '1 hr 15 mins',\n",
       " '20 mins',\n",
       " '4 hrs 15 mins',\n",
       " '5 hrs 40 mins',\n",
       " '1 hr']"
      ]
     },
     "execution_count": 12,
     "metadata": {},
     "output_type": "execute_result"
    }
   ],
   "source": [
    "time=[]\n",
    "c=0\n",
    "for i in main:\n",
    "    time.append(i.text)\n",
    "    c+=1\n",
    "time.insert(0,np.nan)\n",
    "time"
   ]
  },
  {
   "cell_type": "code",
   "execution_count": 85,
   "id": "a0ce29f9",
   "metadata": {
    "scrolled": true
   },
   "outputs": [
    {
     "data": {
      "text/plain": [
       "'https://www.skinnytaste.com/italian-sub-salad/'"
      ]
     },
     "execution_count": 85,
     "metadata": {},
     "output_type": "execute_result"
    }
   ],
   "source": [
    "# a=re.findall('href=\\\"(.+)\"><img',str(url[0]))\n",
    "# a[0].split(' ')[0].split('\"')[0]"
   ]
  },
  {
   "cell_type": "code",
   "execution_count": 13,
   "id": "eeb13aca",
   "metadata": {},
   "outputs": [
    {
     "data": {
      "text/plain": [
       "['https://www.skinnytaste.com/18-easy-taco-recipes/',\n",
       " 'https://www.skinnytaste.com/braised-brisket-with-potatoes-and/',\n",
       " 'https://www.skinnytaste.com/baked-steelhead-trout/',\n",
       " 'https://www.skinnytaste.com/lighter-chicken-saltimbocca/',\n",
       " 'https://www.skinnytaste.com/italian-shrimp-salad/',\n",
       " 'https://www.skinnytaste.com/ground-turkey-tacos/',\n",
       " 'https://www.skinnytaste.com/shrimp-pad-thai-on-lighter-side/',\n",
       " 'https://www.skinnytaste.com/chicken-pasta-primavera/',\n",
       " 'https://www.skinnytaste.com/grilled-salmon-with-avocado-bruschetta/',\n",
       " 'https://www.skinnytaste.com/chicken-marbella/',\n",
       " 'https://www.skinnytaste.com/one-pot-chicken-and-orzo/',\n",
       " 'https://www.skinnytaste.com/italian-sub-salad/',\n",
       " 'https://www.skinnytaste.com/baked-honey-mustard-ham/',\n",
       " 'https://www.skinnytaste.com/risotto-primavera/',\n",
       " 'https://www.skinnytaste.com/honey-baked-spiral-ham/',\n",
       " 'https://www.skinnytaste.com/spanish-tortilla-with-pimenton-aioli/',\n",
       " 'https://www.skinnytaste.com/fish-cakes/',\n",
       " 'https://www.skinnytaste.com/slow-cooker-chicken-and-lentil-soup/',\n",
       " 'https://www.skinnytaste.com/crock-pot-corned-beef-and-cabbage/',\n",
       " 'https://www.skinnytaste.com/butternut-squash-soup/']"
      ]
     },
     "execution_count": 13,
     "metadata": {},
     "output_type": "execute_result"
    }
   ],
   "source": [
    "#links\n",
    "url=soup.find_all('div',class_='post-thumb-img-content post-thumb')\n",
    "sub_url=[]\n",
    "for i in url:\n",
    "    a=re.findall('href=\\\"(.+)\"><img',str(i))\n",
    "    sub_url.append(a[0].split(' ')[0].split('\"')[0])\n",
    "sub_url"
   ]
  },
  {
   "cell_type": "raw",
   "id": "01bcb52f",
   "metadata": {
    "collapsed": true
   },
   "source": [
    "# converting above urls(html) into string data\n",
    "\n",
    "for i in sub_url:\n",
    "    page=requests.get(i)\n",
    "    soup = BeautifulSoup(page.text)\n",
    "\n",
    "soup.text"
   ]
  },
  {
   "cell_type": "raw",
   "id": "de7680bd",
   "metadata": {
    "collapsed": true
   },
   "source": [
    "for i in sub_url:\n",
    "    page=requests.get(i)\n",
    "    soup = BeautifulSoup(page.text)\n",
    "    urls=[]\n",
    "    single=[]\n",
    "    for j in soup.find_all('a'):\n",
    "        single.append(j.text)\n",
    "        urls.append(single)\n",
    "urls\n"
   ]
  },
  {
   "cell_type": "code",
   "execution_count": null,
   "id": "5111b98f",
   "metadata": {},
   "outputs": [],
   "source": []
  },
  {
   "cell_type": "code",
   "execution_count": null,
   "id": "cba7bf8a",
   "metadata": {},
   "outputs": [],
   "source": []
  },
  {
   "cell_type": "code",
   "execution_count": 11,
   "id": "d648b6cf",
   "metadata": {},
   "outputs": [],
   "source": [
    "# urls=[]\n",
    "# single=[]\n",
    "# for j in soup.find_all('a'):\n",
    "#     single.append(j.text)\n",
    "\n",
    "#     urls.append(single)\n",
    "# single\n",
    "# urls[0]"
   ]
  },
  {
   "cell_type": "code",
   "execution_count": 14,
   "id": "c7a75448",
   "metadata": {},
   "outputs": [],
   "source": [
    "link='https://www.skinnytaste.com/braised-brisket-with-potatoes-and/'\n",
    "page=requests.get(link)\n",
    "soup = BeautifulSoup(page.text)\n",
    "#soup"
   ]
  },
  {
   "cell_type": "code",
   "execution_count": 15,
   "id": "06afc0b6",
   "metadata": {},
   "outputs": [
    {
     "data": {
      "text/plain": [
       "'Braised Brisket with Potatoes and Carrots'"
      ]
     },
     "execution_count": 15,
     "metadata": {},
     "output_type": "execute_result"
    }
   ],
   "source": [
    "#title\n",
    "soup.find_all('h1')[0].text"
   ]
  },
  {
   "cell_type": "code",
   "execution_count": 16,
   "id": "06620e47",
   "metadata": {},
   "outputs": [
    {
     "data": {
      "text/plain": [
       "'5'"
      ]
     },
     "execution_count": 16,
     "metadata": {},
     "output_type": "execute_result"
    }
   ],
   "source": [
    "#rating\n",
    "soup.find_all('span',class_='wprm-recipe-rating-average')[0].text"
   ]
  },
  {
   "cell_type": "code",
   "execution_count": 17,
   "id": "ba0312dc",
   "metadata": {},
   "outputs": [
    {
     "data": {
      "text/plain": [
       "'293'"
      ]
     },
     "execution_count": 17,
     "metadata": {},
     "output_type": "execute_result"
    }
   ],
   "source": [
    "#calories\n",
    "c=soup.find_all('span',class_='recipe-meta-value value-calories')[0].text\n",
    "c.split(' ')[1]"
   ]
  },
  {
   "cell_type": "code",
   "execution_count": 18,
   "id": "d54c9c50",
   "metadata": {},
   "outputs": [
    {
     "data": {
      "text/plain": [
       "'29'"
      ]
     },
     "execution_count": 18,
     "metadata": {},
     "output_type": "execute_result"
    }
   ],
   "source": [
    "#protein\n",
    "p=soup.find_all('span',class_='recipe-meta-value value-protein')[0].text\n",
    "p.split(' ')[1]"
   ]
  },
  {
   "cell_type": "code",
   "execution_count": 19,
   "id": "2f5da2c7",
   "metadata": {},
   "outputs": [
    {
     "data": {
      "text/plain": [
       "'29'"
      ]
     },
     "execution_count": 19,
     "metadata": {},
     "output_type": "execute_result"
    }
   ],
   "source": [
    "#carbs\n",
    "c=soup.find_all('span',class_='recipe-meta-value value-carbs')[0].text\n",
    "c.split(' ')[1]"
   ]
  },
  {
   "cell_type": "code",
   "execution_count": 20,
   "id": "2446ba73",
   "metadata": {},
   "outputs": [
    {
     "data": {
      "text/plain": [
       "'6.5'"
      ]
     },
     "execution_count": 20,
     "metadata": {},
     "output_type": "execute_result"
    }
   ],
   "source": [
    "#fats\n",
    "f=soup.find_all('span',class_='recipe-meta-value value-fat')[0].text\n",
    "f.split(' ')[1]"
   ]
  },
  {
   "cell_type": "code",
   "execution_count": 24,
   "id": "6828e712",
   "metadata": {},
   "outputs": [
    {
     "data": {
      "text/plain": [
       "'8'"
      ]
     },
     "execution_count": 24,
     "metadata": {},
     "output_type": "execute_result"
    }
   ],
   "source": [
    "#serving\n",
    "s=soup.find_all('span',class_='wprm-recipe-servings wprm-recipe-details wprm-recipe-servings-49576 wprm-recipe-servings-adjustable-disabled wprm-block-text-normal')\n",
    "s[0].text"
   ]
  },
  {
   "cell_type": "code",
   "execution_count": 23,
   "id": "1f2e3755",
   "metadata": {},
   "outputs": [
    {
     "data": {
      "text/plain": [
       "'Dinner'"
      ]
     },
     "execution_count": 23,
     "metadata": {},
     "output_type": "execute_result"
    }
   ],
   "source": [
    "#type\n",
    "t=soup.find_all('span',class_= 'wprm-recipe-course wprm-block-text-normal')\n",
    "t[0].text"
   ]
  },
  {
   "cell_type": "code",
   "execution_count": null,
   "id": "9b9f4bbf",
   "metadata": {},
   "outputs": [],
   "source": []
  },
  {
   "cell_type": "raw",
   "id": "6e79e557",
   "metadata": {},
   "source": [
    "#ingredients\n",
    "ii=soup.find_all('strong')\n",
    "re.findall('\\>(\\w+)',str(ii))"
   ]
  },
  {
   "cell_type": "raw",
   "id": "9af245bd",
   "metadata": {},
   "source": [
    "ii"
   ]
  },
  {
   "cell_type": "code",
   "execution_count": 2,
   "id": "25ded33e",
   "metadata": {},
   "outputs": [
    {
     "name": "stdout",
     "output_type": "stream",
     "text": [
      "<Response [200]>\n",
      "<Response [200]>\n",
      "<Response [200]>\n",
      "<Response [200]>\n",
      "<Response [200]>\n",
      "<Response [200]>\n",
      "<Response [200]>\n",
      "<Response [200]>\n",
      "<Response [200]>\n",
      "<Response [200]>\n",
      "200\n",
      "200\n"
     ]
    }
   ],
   "source": [
    "URL = ['https://www.skinnytaste.com/recipe-index/?_course=dinner-recipes']\n",
    "Time = []\n",
    "sub_url = []\n",
    "\n",
    "for i in range(2, 11):\n",
    "    URL.append(URL[0] + '&_paged=' + str(i))  # 10 pages\n",
    "\n",
    "for j in URL:\n",
    "    page = requests.get(j)\n",
    "    soup = BeautifulSoup(page.text)\n",
    "    print(page)\n",
    "\n",
    "    for i in soup.find_all('article', class_='ast-archive-post'):\n",
    "        time= i.find('span', class_='wprm-total-time')\n",
    "        Time.append(time.text.strip() if time else np.nan)\n",
    "\n",
    "    for l in soup.find_all('div', class_='post-thumb-img-content post-thumb'):\n",
    "        a = re.findall('href=\\\"(.+)\"><img', str(l))\n",
    "        sub_url.append(a[0].split(' ')[0].split('\"')[0])\n",
    "        \n",
    "print(len(Time))  \n",
    "print(len(sub_url))"
   ]
  },
  {
   "cell_type": "code",
   "execution_count": 3,
   "id": "c5f77484",
   "metadata": {},
   "outputs": [
    {
     "name": "stdout",
     "output_type": "stream",
     "text": [
      "200\n",
      "200\n",
      "200\n",
      "200\n",
      "200\n",
      "200\n",
      "200\n",
      "200\n",
      "200\n",
      "200\n",
      "200\n",
      "200\n",
      "200\n",
      "200\n"
     ]
    }
   ],
   "source": [
    "Title=[]\n",
    "rating=[]\n",
    "protein=[]\n",
    "carbs=[]\n",
    "calories=[]\n",
    "fat=[]\n",
    "serving=[]\n",
    "type_of=[]\n",
    "cholesterol=[]\n",
    "sodium=[]\n",
    "fiber=[]\n",
    "sugar=[]\n",
    "pre_time=[]\n",
    "cook_time=[]\n",
    "    \n",
    "# Fetching sub-URLs inside the loop\n",
    "for sub in sub_url:\n",
    "    page1=requests.get(sub)\n",
    "    soup1=BeautifulSoup(page1.text)\n",
    "    \n",
    "    Title.append(soup1.find('h1').text)\n",
    "    \n",
    "    r=soup1.find('span',class_='wprm-recipe-rating-average')\n",
    "    rating.append(r.text if r else np.nan)\n",
    "    \n",
    "    cal=soup1.find('span',class_='recipe-meta-value value-calories')\n",
    "    calories.append(cal.text.split(' ')[1] if cal else np.nan)\n",
    "    \n",
    "    p=soup1.find('span',class_='recipe-meta-value value-protein')\n",
    "    protein.append(p.text.split(' ')[1] if p else np.nan)\n",
    "    \n",
    "    car=soup1.find('span',class_='recipe-meta-value value-carbs')\n",
    "    carbs.append(car.text.split(' ')[1] if car else np.nan)\n",
    "    \n",
    "    f=soup1.find('span',class_='recipe-meta-value value-fat')\n",
    "    fat.append(f.text.split(' ')[1] if f else np.nan)\n",
    "    \n",
    "    s=soup1.find('span',class_='wprm-recipe-details wprm-recipe-nutrition wprm-recipe-serving_size wprm-block-text-normal')\n",
    "    serving.append(s.text if s else np.nan)\n",
    "    \n",
    "    t=soup1.find('a',class_= 'tasty-link')\n",
    "    type_of.append(t.text if t else np.nan)\n",
    "    \n",
    "    c=soup1.find('span',class_='wprm-nutrition-label-text-nutrition-container wprm-nutrition-label-text-nutrition-container-cholesterol')\n",
    "    cholesterol.append(c.text.split(' ')[1] if c else np.nan)\n",
    "    \n",
    "    sod=soup1.find('span',class_='wprm-nutrition-label-text-nutrition-container wprm-nutrition-label-text-nutrition-container-sodium')\n",
    "    sodium.append(sod.text.split()[1] if sod else np.nan)\n",
    "    \n",
    "    f=soup1.find('span',class_='wprm-nutrition-label-text-nutrition-container wprm-nutrition-label-text-nutrition-container-fiber')\n",
    "    fiber.append(f.text.split()[1] if f else np.nan)\n",
    "    \n",
    "    ss=soup1.find('span',class_='wprm-nutrition-label-text-nutrition-container wprm-nutrition-label-text-nutrition-container-sugar')\n",
    "    sugar.append(ss.text.split()[1] if ss else np.nan)\n",
    "    \n",
    "    pt=soup1.find('span',class_='wprm-recipe-details wprm-recipe-details-minutes wprm-recipe-prep_time wprm-recipe-prep_time-minutes')\n",
    "    pre_time.append(pt.text.split()[0] if pt else np.nan)\n",
    "    \n",
    "    ct=soup1.find('span',class_='wprm-recipe-details wprm-recipe-details-minutes wprm-recipe-cook_time wprm-recipe-cook_time-minutes')\n",
    "    cook_time.append(ct.text.split()[0] if ct else np.nan)\n",
    "    \n",
    "    \n",
    "    \n",
    "print(len(Title))\n",
    "print(len(rating))\n",
    "print(len(protein))\n",
    "print(len(calories))\n",
    "print(len(carbs))\n",
    "print(len(fat))\n",
    "print(len(serving))\n",
    "print(len(type_of))\n",
    "print(len(cholesterol))\n",
    "print(len(sodium))\n",
    "print(len(fiber))\n",
    "print(len(sugar))\n",
    "print(len(pre_time))\n",
    "print(len(cook_time))\n",
    "\n"
   ]
  },
  {
   "cell_type": "code",
   "execution_count": 4,
   "id": "257b864e",
   "metadata": {},
   "outputs": [
    {
     "data": {
      "text/html": [
       "<div>\n",
       "<style scoped>\n",
       "    .dataframe tbody tr th:only-of-type {\n",
       "        vertical-align: middle;\n",
       "    }\n",
       "\n",
       "    .dataframe tbody tr th {\n",
       "        vertical-align: top;\n",
       "    }\n",
       "\n",
       "    .dataframe thead th {\n",
       "        text-align: right;\n",
       "    }\n",
       "</style>\n",
       "<table border=\"1\" class=\"dataframe\">\n",
       "  <thead>\n",
       "    <tr style=\"text-align: right;\">\n",
       "      <th></th>\n",
       "      <th>Recipe_Name</th>\n",
       "      <th>Type</th>\n",
       "      <th>Serving</th>\n",
       "      <th>Protein</th>\n",
       "      <th>Fat</th>\n",
       "      <th>Carbs</th>\n",
       "      <th>Calories</th>\n",
       "      <th>cholesterol</th>\n",
       "      <th>sodium</th>\n",
       "      <th>fiber</th>\n",
       "      <th>sugar</th>\n",
       "      <th>Prepare time</th>\n",
       "      <th>cooking time</th>\n",
       "      <th>Total_Time</th>\n",
       "      <th>Ratings</th>\n",
       "    </tr>\n",
       "  </thead>\n",
       "  <tbody>\n",
       "    <tr>\n",
       "      <th>197</th>\n",
       "      <td>Italian Turkey Meatballs</td>\n",
       "      <td>dinner</td>\n",
       "      <td>4</td>\n",
       "      <td>25.5</td>\n",
       "      <td>11.5</td>\n",
       "      <td>25</td>\n",
       "      <td>280</td>\n",
       "      <td>104</td>\n",
       "      <td>997</td>\n",
       "      <td>5</td>\n",
       "      <td>10.5</td>\n",
       "      <td>5</td>\n",
       "      <td>30</td>\n",
       "      <td>35 mins</td>\n",
       "      <td>4.93</td>\n",
       "    </tr>\n",
       "    <tr>\n",
       "      <th>198</th>\n",
       "      <td>Grilled Chicken Tacos with Lettuce Slaw, Avoca...</td>\n",
       "      <td>dinner</td>\n",
       "      <td>2</td>\n",
       "      <td>33</td>\n",
       "      <td>16</td>\n",
       "      <td>22</td>\n",
       "      <td>330</td>\n",
       "      <td>83</td>\n",
       "      <td>697</td>\n",
       "      <td>5</td>\n",
       "      <td>2</td>\n",
       "      <td>10</td>\n",
       "      <td>15</td>\n",
       "      <td>1 hr 25 mins</td>\n",
       "      <td>5</td>\n",
       "    </tr>\n",
       "    <tr>\n",
       "      <th>199</th>\n",
       "      <td>Slow Cooker Chicken Tacos</td>\n",
       "      <td>dinner</td>\n",
       "      <td>3</td>\n",
       "      <td>45.5</td>\n",
       "      <td>13.5</td>\n",
       "      <td>44.5</td>\n",
       "      <td>474</td>\n",
       "      <td>124.5</td>\n",
       "      <td>470.5</td>\n",
       "      <td>9.5</td>\n",
       "      <td>4</td>\n",
       "      <td>2</td>\n",
       "      <td>NaN</td>\n",
       "      <td>4 hrs 2 mins</td>\n",
       "      <td>4.97</td>\n",
       "    </tr>\n",
       "  </tbody>\n",
       "</table>\n",
       "</div>"
      ],
      "text/plain": [
       "                                           Recipe_Name    Type Serving  \\\n",
       "197                           Italian Turkey Meatballs  dinner       4   \n",
       "198  Grilled Chicken Tacos with Lettuce Slaw, Avoca...  dinner       2   \n",
       "199                          Slow Cooker Chicken Tacos  dinner       3   \n",
       "\n",
       "    Protein   Fat Carbs Calories cholesterol sodium fiber sugar Prepare time  \\\n",
       "197    25.5  11.5    25      280         104    997     5  10.5            5   \n",
       "198      33    16    22      330          83    697     5     2           10   \n",
       "199    45.5  13.5  44.5      474       124.5  470.5   9.5     4            2   \n",
       "\n",
       "    cooking time    Total_Time Ratings  \n",
       "197           30       35 mins    4.93  \n",
       "198           15  1 hr 25 mins       5  \n",
       "199          NaN  4 hrs 2 mins    4.97  "
      ]
     },
     "execution_count": 4,
     "metadata": {},
     "output_type": "execute_result"
    }
   ],
   "source": [
    "df7=pd.DataFrame({'Recipe_Name':Title,\n",
    "                  \"Type\":type_of,\n",
    "                  'Serving':serving,\n",
    "                  \"Protein\":protein,\n",
    "                  \"Fat\":fat,\n",
    "                  \"Carbs\":carbs,\n",
    "                  \"Calories\":calories,\n",
    "                  'cholesterol':cholesterol,\n",
    "                  'sodium':sodium,\n",
    "                  'fiber':fiber,\n",
    "                  'sugar':sugar,\n",
    "                    'Prepare time':pre_time,\n",
    "                  'cooking time': cook_time,\n",
    "                  \"Total_Time\":Time,\n",
    "                  \"Ratings\":rating,\n",
    "\n",
    "                 \n",
    "                 \n",
    "                 })\n",
    "df7.tail(3)"
   ]
  },
  {
   "cell_type": "code",
   "execution_count": 7,
   "id": "0c54f653",
   "metadata": {},
   "outputs": [
    {
     "data": {
      "text/html": [
       "<div>\n",
       "<style scoped>\n",
       "    .dataframe tbody tr th:only-of-type {\n",
       "        vertical-align: middle;\n",
       "    }\n",
       "\n",
       "    .dataframe tbody tr th {\n",
       "        vertical-align: top;\n",
       "    }\n",
       "\n",
       "    .dataframe thead th {\n",
       "        text-align: right;\n",
       "    }\n",
       "</style>\n",
       "<table border=\"1\" class=\"dataframe\">\n",
       "  <thead>\n",
       "    <tr style=\"text-align: right;\">\n",
       "      <th></th>\n",
       "      <th>Unnamed: 0</th>\n",
       "      <th>Recipe_Name</th>\n",
       "      <th>Type</th>\n",
       "      <th>Serving</th>\n",
       "      <th>Protein</th>\n",
       "      <th>Fat</th>\n",
       "      <th>Carbs</th>\n",
       "      <th>Calories</th>\n",
       "      <th>cholesterol</th>\n",
       "      <th>sodium</th>\n",
       "      <th>fiber</th>\n",
       "      <th>sugar</th>\n",
       "      <th>Prepare time</th>\n",
       "      <th>cooking time</th>\n",
       "      <th>Total_Time</th>\n",
       "      <th>Ratings</th>\n",
       "    </tr>\n",
       "  </thead>\n",
       "  <tbody>\n",
       "    <tr>\n",
       "      <th>0</th>\n",
       "      <td>0</td>\n",
       "      <td>Green Curry Noodles</td>\n",
       "      <td>Dinner</td>\n",
       "      <td>1.0</td>\n",
       "      <td>15.0</td>\n",
       "      <td>10.5</td>\n",
       "      <td>47.5</td>\n",
       "      <td>346.0</td>\n",
       "      <td>NaN</td>\n",
       "      <td>1003.5</td>\n",
       "      <td>3.0</td>\n",
       "      <td>9.5</td>\n",
       "      <td>25.0</td>\n",
       "      <td>15.0</td>\n",
       "      <td>40 mins</td>\n",
       "      <td>NaN</td>\n",
       "    </tr>\n",
       "    <tr>\n",
       "      <th>1</th>\n",
       "      <td>1</td>\n",
       "      <td>18 Easy Taco Recipes</td>\n",
       "      <td>NaN</td>\n",
       "      <td>NaN</td>\n",
       "      <td>NaN</td>\n",
       "      <td>NaN</td>\n",
       "      <td>NaN</td>\n",
       "      <td>NaN</td>\n",
       "      <td>NaN</td>\n",
       "      <td>NaN</td>\n",
       "      <td>NaN</td>\n",
       "      <td>NaN</td>\n",
       "      <td>NaN</td>\n",
       "      <td>NaN</td>\n",
       "      <td>NaN</td>\n",
       "      <td>NaN</td>\n",
       "    </tr>\n",
       "    <tr>\n",
       "      <th>2</th>\n",
       "      <td>2</td>\n",
       "      <td>Baked Steelhead Trout</td>\n",
       "      <td>Dinner</td>\n",
       "      <td>6.0</td>\n",
       "      <td>36.0</td>\n",
       "      <td>8.5</td>\n",
       "      <td>7.5</td>\n",
       "      <td>242.0</td>\n",
       "      <td>100.5</td>\n",
       "      <td>262.5</td>\n",
       "      <td>3.0</td>\n",
       "      <td>1.5</td>\n",
       "      <td>15.0</td>\n",
       "      <td>20.0</td>\n",
       "      <td>35 mins</td>\n",
       "      <td>4.34</td>\n",
       "    </tr>\n",
       "    <tr>\n",
       "      <th>3</th>\n",
       "      <td>3</td>\n",
       "      <td>Chicken Saltimbocca</td>\n",
       "      <td>Dinner</td>\n",
       "      <td>1.0</td>\n",
       "      <td>21.7</td>\n",
       "      <td>4.3</td>\n",
       "      <td>4.5</td>\n",
       "      <td>155.2</td>\n",
       "      <td>NaN</td>\n",
       "      <td>NaN</td>\n",
       "      <td>0.2</td>\n",
       "      <td>NaN</td>\n",
       "      <td>10.0</td>\n",
       "      <td>10.0</td>\n",
       "      <td>20 mins</td>\n",
       "      <td>5.00</td>\n",
       "    </tr>\n",
       "    <tr>\n",
       "      <th>4</th>\n",
       "      <td>4</td>\n",
       "      <td>Italian Shrimp Salad</td>\n",
       "      <td>lunch</td>\n",
       "      <td>1.0</td>\n",
       "      <td>20.0</td>\n",
       "      <td>11.5</td>\n",
       "      <td>5.0</td>\n",
       "      <td>198.0</td>\n",
       "      <td>152.0</td>\n",
       "      <td>442.5</td>\n",
       "      <td>1.5</td>\n",
       "      <td>1.0</td>\n",
       "      <td>20.0</td>\n",
       "      <td>0.0</td>\n",
       "      <td>3 hrs 20 mins</td>\n",
       "      <td>4.86</td>\n",
       "    </tr>\n",
       "    <tr>\n",
       "      <th>...</th>\n",
       "      <td>...</td>\n",
       "      <td>...</td>\n",
       "      <td>...</td>\n",
       "      <td>...</td>\n",
       "      <td>...</td>\n",
       "      <td>...</td>\n",
       "      <td>...</td>\n",
       "      <td>...</td>\n",
       "      <td>...</td>\n",
       "      <td>...</td>\n",
       "      <td>...</td>\n",
       "      <td>...</td>\n",
       "      <td>...</td>\n",
       "      <td>...</td>\n",
       "      <td>...</td>\n",
       "      <td>...</td>\n",
       "    </tr>\n",
       "    <tr>\n",
       "      <th>195</th>\n",
       "      <td>195</td>\n",
       "      <td>Coconut Chicken Salad with Warm Honey Mustard ...</td>\n",
       "      <td>lunch</td>\n",
       "      <td>1.0</td>\n",
       "      <td>27.0</td>\n",
       "      <td>11.0</td>\n",
       "      <td>32.5</td>\n",
       "      <td>397.0</td>\n",
       "      <td>NaN</td>\n",
       "      <td>NaN</td>\n",
       "      <td>4.5</td>\n",
       "      <td>10.0</td>\n",
       "      <td>10.0</td>\n",
       "      <td>30.0</td>\n",
       "      <td>40 mins</td>\n",
       "      <td>4.88</td>\n",
       "    </tr>\n",
       "    <tr>\n",
       "      <th>196</th>\n",
       "      <td>196</td>\n",
       "      <td>Grilled Vegetable Orzo Pasta Salad</td>\n",
       "      <td>lunch</td>\n",
       "      <td>1.0</td>\n",
       "      <td>6.5</td>\n",
       "      <td>9.0</td>\n",
       "      <td>39.5</td>\n",
       "      <td>267.0</td>\n",
       "      <td>NaN</td>\n",
       "      <td>6.0</td>\n",
       "      <td>4.0</td>\n",
       "      <td>4.5</td>\n",
       "      <td>10.0</td>\n",
       "      <td>15.0</td>\n",
       "      <td>25 mins</td>\n",
       "      <td>4.91</td>\n",
       "    </tr>\n",
       "    <tr>\n",
       "      <th>197</th>\n",
       "      <td>197</td>\n",
       "      <td>Italian Turkey Meatballs</td>\n",
       "      <td>dinner</td>\n",
       "      <td>4.0</td>\n",
       "      <td>25.5</td>\n",
       "      <td>11.5</td>\n",
       "      <td>25.0</td>\n",
       "      <td>280.0</td>\n",
       "      <td>104.0</td>\n",
       "      <td>997.0</td>\n",
       "      <td>5.0</td>\n",
       "      <td>10.5</td>\n",
       "      <td>5.0</td>\n",
       "      <td>30.0</td>\n",
       "      <td>35 mins</td>\n",
       "      <td>4.93</td>\n",
       "    </tr>\n",
       "    <tr>\n",
       "      <th>198</th>\n",
       "      <td>198</td>\n",
       "      <td>Grilled Chicken Tacos with Lettuce Slaw, Avoca...</td>\n",
       "      <td>dinner</td>\n",
       "      <td>2.0</td>\n",
       "      <td>33.0</td>\n",
       "      <td>16.0</td>\n",
       "      <td>22.0</td>\n",
       "      <td>330.0</td>\n",
       "      <td>83.0</td>\n",
       "      <td>697.0</td>\n",
       "      <td>5.0</td>\n",
       "      <td>2.0</td>\n",
       "      <td>10.0</td>\n",
       "      <td>15.0</td>\n",
       "      <td>1 hr 25 mins</td>\n",
       "      <td>5.00</td>\n",
       "    </tr>\n",
       "    <tr>\n",
       "      <th>199</th>\n",
       "      <td>199</td>\n",
       "      <td>Slow Cooker Chicken Tacos</td>\n",
       "      <td>dinner</td>\n",
       "      <td>3.0</td>\n",
       "      <td>45.5</td>\n",
       "      <td>13.5</td>\n",
       "      <td>44.5</td>\n",
       "      <td>474.0</td>\n",
       "      <td>124.5</td>\n",
       "      <td>470.5</td>\n",
       "      <td>9.5</td>\n",
       "      <td>4.0</td>\n",
       "      <td>2.0</td>\n",
       "      <td>NaN</td>\n",
       "      <td>4 hrs 2 mins</td>\n",
       "      <td>4.97</td>\n",
       "    </tr>\n",
       "  </tbody>\n",
       "</table>\n",
       "<p>200 rows × 16 columns</p>\n",
       "</div>"
      ],
      "text/plain": [
       "     Unnamed: 0                                        Recipe_Name    Type  \\\n",
       "0             0                                Green Curry Noodles  Dinner   \n",
       "1             1                               18 Easy Taco Recipes     NaN   \n",
       "2             2                              Baked Steelhead Trout  Dinner   \n",
       "3             3                                Chicken Saltimbocca  Dinner   \n",
       "4             4                               Italian Shrimp Salad   lunch   \n",
       "..          ...                                                ...     ...   \n",
       "195         195  Coconut Chicken Salad with Warm Honey Mustard ...   lunch   \n",
       "196         196                 Grilled Vegetable Orzo Pasta Salad   lunch   \n",
       "197         197                           Italian Turkey Meatballs  dinner   \n",
       "198         198  Grilled Chicken Tacos with Lettuce Slaw, Avoca...  dinner   \n",
       "199         199                          Slow Cooker Chicken Tacos  dinner   \n",
       "\n",
       "     Serving  Protein   Fat  Carbs  Calories  cholesterol  sodium  fiber  \\\n",
       "0        1.0     15.0  10.5   47.5     346.0          NaN  1003.5    3.0   \n",
       "1        NaN      NaN   NaN    NaN       NaN          NaN     NaN    NaN   \n",
       "2        6.0     36.0   8.5    7.5     242.0        100.5   262.5    3.0   \n",
       "3        1.0     21.7   4.3    4.5     155.2          NaN     NaN    0.2   \n",
       "4        1.0     20.0  11.5    5.0     198.0        152.0   442.5    1.5   \n",
       "..       ...      ...   ...    ...       ...          ...     ...    ...   \n",
       "195      1.0     27.0  11.0   32.5     397.0          NaN     NaN    4.5   \n",
       "196      1.0      6.5   9.0   39.5     267.0          NaN     6.0    4.0   \n",
       "197      4.0     25.5  11.5   25.0     280.0        104.0   997.0    5.0   \n",
       "198      2.0     33.0  16.0   22.0     330.0         83.0   697.0    5.0   \n",
       "199      3.0     45.5  13.5   44.5     474.0        124.5   470.5    9.5   \n",
       "\n",
       "     sugar  Prepare time  cooking time     Total_Time  Ratings  \n",
       "0      9.5          25.0          15.0        40 mins      NaN  \n",
       "1      NaN           NaN           NaN            NaN      NaN  \n",
       "2      1.5          15.0          20.0        35 mins     4.34  \n",
       "3      NaN          10.0          10.0        20 mins     5.00  \n",
       "4      1.0          20.0           0.0  3 hrs 20 mins     4.86  \n",
       "..     ...           ...           ...            ...      ...  \n",
       "195   10.0          10.0          30.0        40 mins     4.88  \n",
       "196    4.5          10.0          15.0        25 mins     4.91  \n",
       "197   10.5           5.0          30.0        35 mins     4.93  \n",
       "198    2.0          10.0          15.0   1 hr 25 mins     5.00  \n",
       "199    4.0           2.0           NaN   4 hrs 2 mins     4.97  \n",
       "\n",
       "[200 rows x 16 columns]"
      ]
     },
     "execution_count": 7,
     "metadata": {},
     "output_type": "execute_result"
    }
   ],
   "source": [
    "#df7.to_csv(\"dinner.csv\")\n",
    "df7=pd.read_csv('dinner.csv')\n",
    "df7"
   ]
  },
  {
   "cell_type": "code",
   "execution_count": 5,
   "id": "84a92861",
   "metadata": {},
   "outputs": [
    {
     "data": {
      "text/plain": [
       "array(['Dinner', 'lunch', 'dinner', 'Asparagus', 'asparagus', 'Dessert',\n",
       "       'appetizer', 'dessert', 'Cauliflower Rice',\n",
       "       'boneless chicken thighs', 'Rice Bowl', 'cottage cheese',\n",
       "       'Instant Pot', 'cauliflower rice', 'instant pot', 'meatloaf',\n",
       "       'quinoa', 'Appetizer', 'burger', 'Cottage Cheese', 'rice bowl',\n",
       "       'Chicken Tenderloin', 'Lettuce Wraps', 'Quinoa', 'Meatloaf',\n",
       "       'Breakfast', 'breakfast'], dtype=object)"
      ]
     },
     "execution_count": 5,
     "metadata": {},
     "output_type": "execute_result"
    }
   ],
   "source": [
    "df7['Type'].unique()"
   ]
  },
  {
   "cell_type": "code",
   "execution_count": 4,
   "id": "2878bc42",
   "metadata": {},
   "outputs": [],
   "source": [
    "df7['Type']=df7['Type'].fillna(method='bfill')"
   ]
  },
  {
   "cell_type": "code",
   "execution_count": 6,
   "id": "62f34bd1",
   "metadata": {},
   "outputs": [],
   "source": [
    "#df7.to_csv(\"dinner.csv\")\n"
   ]
  },
  {
   "cell_type": "code",
   "execution_count": null,
   "id": "6981adcc",
   "metadata": {},
   "outputs": [],
   "source": []
  }
 ],
 "metadata": {
  "kernelspec": {
   "display_name": "Python 3 (ipykernel)",
   "language": "python",
   "name": "python3"
  },
  "language_info": {
   "codemirror_mode": {
    "name": "ipython",
    "version": 3
   },
   "file_extension": ".py",
   "mimetype": "text/x-python",
   "name": "python",
   "nbconvert_exporter": "python",
   "pygments_lexer": "ipython3",
   "version": "3.11.5"
  }
 },
 "nbformat": 4,
 "nbformat_minor": 5
}
