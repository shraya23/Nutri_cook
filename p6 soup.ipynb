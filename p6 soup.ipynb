{
 "cells": [
  {
   "cell_type": "code",
   "execution_count": 1,
   "id": "7c7793bf",
   "metadata": {},
   "outputs": [],
   "source": [
    "import re\n",
    "from bs4 import BeautifulSoup\n",
    "import requests\n",
    "import numpy as np\n",
    "import pandas as pd"
   ]
  },
  {
   "cell_type": "code",
   "execution_count": 2,
   "id": "87822c9c",
   "metadata": {},
   "outputs": [
    {
     "data": {
      "text/plain": [
       "<Response [200]>"
      ]
     },
     "execution_count": 2,
     "metadata": {},
     "output_type": "execute_result"
    }
   ],
   "source": [
    "url1='https://www.skinnytaste.com/recipe-index/?_course=soup'\n",
    "page=requests.get(url1)\n",
    "page"
   ]
  },
  {
   "cell_type": "code",
   "execution_count": 3,
   "id": "1f2883b9",
   "metadata": {},
   "outputs": [],
   "source": [
    "soup = BeautifulSoup(page.text)\n",
    "#soup"
   ]
  },
  {
   "cell_type": "code",
   "execution_count": 4,
   "id": "807bfcec",
   "metadata": {},
   "outputs": [],
   "source": [
    "main=soup.find_all('span',class_='wprm-total-time')\n",
    "#main"
   ]
  },
  {
   "cell_type": "code",
   "execution_count": 1,
   "id": "48a83d4a",
   "metadata": {},
   "outputs": [
    {
     "data": {
      "text/plain": [
       "['https://www.skinnytaste.com/recipe-index/?_course=soup',\n",
       " 'https://www.skinnytaste.com/recipe-index/?_course=soup&_paged=2',\n",
       " 'https://www.skinnytaste.com/recipe-index/?_course=soup&_paged=3',\n",
       " 'https://www.skinnytaste.com/recipe-index/?_course=soup&_paged=4',\n",
       " 'https://www.skinnytaste.com/recipe-index/?_course=soup&_paged=5',\n",
       " 'https://www.skinnytaste.com/recipe-index/?_course=soup&_paged=6',\n",
       " 'https://www.skinnytaste.com/recipe-index/?_course=soup&_paged=7',\n",
       " 'https://www.skinnytaste.com/recipe-index/?_course=soup&_paged=8',\n",
       " 'https://www.skinnytaste.com/recipe-index/?_course=soup&_paged=9',\n",
       " 'https://www.skinnytaste.com/recipe-index/?_course=soup&_paged=10']"
      ]
     },
     "execution_count": 1,
     "metadata": {},
     "output_type": "execute_result"
    }
   ],
   "source": [
    "URL=['https://www.skinnytaste.com/recipe-index/?_course=soup']\n",
    "for i in range(2,11):\n",
    "    URL.append(URL[0]+'&_paged='+str(i))\n",
    "    \n",
    "    \n",
    "URL"
   ]
  },
  {
   "cell_type": "markdown",
   "id": "527386c1",
   "metadata": {},
   "source": [
    "## Time- column"
   ]
  },
  {
   "cell_type": "code",
   "execution_count": 5,
   "id": "43e0504a",
   "metadata": {},
   "outputs": [],
   "source": [
    "import numpy as np"
   ]
  },
  {
   "cell_type": "code",
   "execution_count": 8,
   "id": "ae763bf6",
   "metadata": {},
   "outputs": [
    {
     "data": {
      "text/plain": [
       "['25 mins',\n",
       " '4 hrs 15 mins',\n",
       " '1 hr',\n",
       " '45 mins',\n",
       " '45 mins',\n",
       " '55 mins',\n",
       " '30 mins',\n",
       " '10 mins',\n",
       " '5 hrs 10 mins',\n",
       " '1 hr 20 mins',\n",
       " '25 mins',\n",
       " '20 mins',\n",
       " '50 mins',\n",
       " '3 hrs 30 mins',\n",
       " '50 mins',\n",
       " '1 hr 35 mins',\n",
       " '1 hr 15 mins',\n",
       " '1 hr 10 mins',\n",
       " '35 mins',\n",
       " '55 mins']"
      ]
     },
     "execution_count": 8,
     "metadata": {},
     "output_type": "execute_result"
    }
   ],
   "source": [
    "time=[]\n",
    "c=0\n",
    "for i in main:\n",
    "    time.append(i.text)\n",
    "    c+=1\n",
    "#time.insert(1,np.nan)\n",
    "time"
   ]
  },
  {
   "cell_type": "code",
   "execution_count": 85,
   "id": "a0ce29f9",
   "metadata": {
    "scrolled": true
   },
   "outputs": [
    {
     "data": {
      "text/plain": [
       "'https://www.skinnytaste.com/italian-sub-salad/'"
      ]
     },
     "execution_count": 85,
     "metadata": {},
     "output_type": "execute_result"
    }
   ],
   "source": [
    "# a=re.findall('href=\\\"(.+)\"><img',str(url[0]))\n",
    "# a[0].split(' ')[0].split('\"')[0]"
   ]
  },
  {
   "cell_type": "code",
   "execution_count": 9,
   "id": "eeb13aca",
   "metadata": {},
   "outputs": [
    {
     "data": {
      "text/plain": [
       "['https://www.skinnytaste.com/cream-of-asparagus-soup-2/',\n",
       " 'https://www.skinnytaste.com/slow-cooker-chicken-and-lentil-soup/',\n",
       " 'https://www.skinnytaste.com/butternut-squash-soup/',\n",
       " 'https://www.skinnytaste.com/chicken-pot-pie-soup/',\n",
       " 'https://www.skinnytaste.com/chicken-gnocchi-soup/',\n",
       " 'https://www.skinnytaste.com/roasted-red-pepper-soup/',\n",
       " 'https://www.skinnytaste.com/escarole-soup-with-turkey-meatballs-52/',\n",
       " 'https://www.skinnytaste.com/leftover-turkey-noodle-soup/',\n",
       " 'https://www.skinnytaste.com/turkey-stock-for-gravy/',\n",
       " 'https://www.skinnytaste.com/minestrone-soup/',\n",
       " 'https://www.skinnytaste.com/coconut-curry-butternut-squash-soup/',\n",
       " 'https://www.skinnytaste.com/baked-potato-soup/',\n",
       " 'https://www.skinnytaste.com/instant-pot-chicken-noodle-soup/',\n",
       " 'https://www.skinnytaste.com/gazpacho/',\n",
       " 'https://www.skinnytaste.com/broccoli-cheddar-soup/',\n",
       " 'https://www.skinnytaste.com/short-rib-soup-instant-pot-or-stove/',\n",
       " 'https://www.skinnytaste.com/wild-mushroom-and-farro-soup/',\n",
       " 'https://www.skinnytaste.com/cabbage-soup-with-chicken-and-pork-5/',\n",
       " 'https://www.skinnytaste.com/pasta-fagioli-64-pts/',\n",
       " 'https://www.skinnytaste.com/avgolemono-chicken-and-rice-soup/']"
      ]
     },
     "execution_count": 9,
     "metadata": {},
     "output_type": "execute_result"
    }
   ],
   "source": [
    "#links\n",
    "url=soup.find_all('div',class_='post-thumb-img-content post-thumb')\n",
    "sub_url=[]\n",
    "for i in url:\n",
    "    a=re.findall('href=\\\"(.+)\"><img',str(i))\n",
    "    sub_url.append(a[0].split(' ')[0].split('\"')[0])\n",
    "sub_url"
   ]
  },
  {
   "cell_type": "raw",
   "id": "01bcb52f",
   "metadata": {
    "collapsed": true
   },
   "source": [
    "# converting above urls(html) into string data\n",
    "\n",
    "for i in sub_url:\n",
    "    page=requests.get(i)\n",
    "    soup = BeautifulSoup(page.text)\n",
    "\n",
    "soup.text"
   ]
  },
  {
   "cell_type": "raw",
   "id": "de7680bd",
   "metadata": {
    "collapsed": true
   },
   "source": [
    "for i in sub_url:\n",
    "    page=requests.get(i)\n",
    "    soup = BeautifulSoup(page.text)\n",
    "    urls=[]\n",
    "    single=[]\n",
    "    for j in soup.find_all('a'):\n",
    "        single.append(j.text)\n",
    "        urls.append(single)\n",
    "urls\n"
   ]
  },
  {
   "cell_type": "code",
   "execution_count": null,
   "id": "5111b98f",
   "metadata": {},
   "outputs": [],
   "source": []
  },
  {
   "cell_type": "code",
   "execution_count": null,
   "id": "cba7bf8a",
   "metadata": {},
   "outputs": [],
   "source": []
  },
  {
   "cell_type": "code",
   "execution_count": 11,
   "id": "d648b6cf",
   "metadata": {},
   "outputs": [],
   "source": [
    "# urls=[]\n",
    "# single=[]\n",
    "# for j in soup.find_all('a'):\n",
    "#     single.append(j.text)\n",
    "\n",
    "#     urls.append(single)\n",
    "# single\n",
    "# urls[0]"
   ]
  },
  {
   "cell_type": "code",
   "execution_count": 11,
   "id": "c7a75448",
   "metadata": {},
   "outputs": [],
   "source": [
    "link='https://www.skinnytaste.com/cream-of-asparagus-soup-2/'\n",
    "page=requests.get(link)\n",
    "soup = BeautifulSoup(page.text)\n",
    "#soup"
   ]
  },
  {
   "cell_type": "code",
   "execution_count": 12,
   "id": "06afc0b6",
   "metadata": {},
   "outputs": [
    {
     "data": {
      "text/plain": [
       "'Cream of Asparagus Soup'"
      ]
     },
     "execution_count": 12,
     "metadata": {},
     "output_type": "execute_result"
    }
   ],
   "source": [
    "#title\n",
    "soup.find_all('h1')[0].text"
   ]
  },
  {
   "cell_type": "code",
   "execution_count": 13,
   "id": "06620e47",
   "metadata": {},
   "outputs": [
    {
     "data": {
      "text/plain": [
       "'4.83'"
      ]
     },
     "execution_count": 13,
     "metadata": {},
     "output_type": "execute_result"
    }
   ],
   "source": [
    "#rating\n",
    "soup.find_all('span',class_='wprm-recipe-rating-average')[0].text"
   ]
  },
  {
   "cell_type": "code",
   "execution_count": 14,
   "id": "ba0312dc",
   "metadata": {},
   "outputs": [
    {
     "data": {
      "text/plain": [
       "'81'"
      ]
     },
     "execution_count": 14,
     "metadata": {},
     "output_type": "execute_result"
    }
   ],
   "source": [
    "#calories\n",
    "c=soup.find_all('span',class_='recipe-meta-value value-calories')[0].text\n",
    "c.split(' ')[1]"
   ]
  },
  {
   "cell_type": "code",
   "execution_count": 15,
   "id": "d54c9c50",
   "metadata": {},
   "outputs": [
    {
     "data": {
      "text/plain": [
       "'6'"
      ]
     },
     "execution_count": 15,
     "metadata": {},
     "output_type": "execute_result"
    }
   ],
   "source": [
    "#protein\n",
    "p=soup.find_all('span',class_='recipe-meta-value value-protein')[0].text\n",
    "p.split(' ')[1]"
   ]
  },
  {
   "cell_type": "code",
   "execution_count": 16,
   "id": "2f5da2c7",
   "metadata": {},
   "outputs": [
    {
     "data": {
      "text/plain": [
       "'10'"
      ]
     },
     "execution_count": 16,
     "metadata": {},
     "output_type": "execute_result"
    }
   ],
   "source": [
    "#carbs\n",
    "c=soup.find_all('span',class_='recipe-meta-value value-carbs')[0].text\n",
    "c.split(' ')[1]"
   ]
  },
  {
   "cell_type": "code",
   "execution_count": 17,
   "id": "2446ba73",
   "metadata": {},
   "outputs": [
    {
     "data": {
      "text/plain": [
       "'3'"
      ]
     },
     "execution_count": 17,
     "metadata": {},
     "output_type": "execute_result"
    }
   ],
   "source": [
    "#fats\n",
    "f=soup.find_all('span',class_='recipe-meta-value value-fat')[0].text\n",
    "f.split(' ')[1]"
   ]
  },
  {
   "cell_type": "code",
   "execution_count": 18,
   "id": "6828e712",
   "metadata": {},
   "outputs": [
    {
     "data": {
      "text/plain": [
       "'6 servings'"
      ]
     },
     "execution_count": 18,
     "metadata": {},
     "output_type": "execute_result"
    }
   ],
   "source": [
    "#serving\n",
    "s=soup.find_all('span',class_='wprm-recipe-servings-with-unit')\n",
    "s[0].text"
   ]
  },
  {
   "cell_type": "code",
   "execution_count": 19,
   "id": "1f2e3755",
   "metadata": {},
   "outputs": [
    {
     "data": {
      "text/plain": [
       "'Soup'"
      ]
     },
     "execution_count": 19,
     "metadata": {},
     "output_type": "execute_result"
    }
   ],
   "source": [
    "#type\n",
    "t=soup.find_all('span',class_= 'wprm-recipe-course wprm-block-text-normal')\n",
    "t[0].text"
   ]
  },
  {
   "cell_type": "code",
   "execution_count": null,
   "id": "9b9f4bbf",
   "metadata": {},
   "outputs": [],
   "source": []
  },
  {
   "cell_type": "raw",
   "id": "6e79e557",
   "metadata": {},
   "source": [
    "#ingredients\n",
    "ii=soup.find_all('strong')\n",
    "re.findall('\\>(\\w+)',str(ii))"
   ]
  },
  {
   "cell_type": "raw",
   "id": "9af245bd",
   "metadata": {},
   "source": [
    "ii"
   ]
  },
  {
   "cell_type": "code",
   "execution_count": 3,
   "id": "c5f77484",
   "metadata": {},
   "outputs": [
    {
     "name": "stdout",
     "output_type": "stream",
     "text": [
      "<Response [200]>\n",
      "<Response [200]>\n",
      "<Response [200]>\n",
      "<Response [200]>\n",
      "<Response [200]>\n",
      "<Response [200]>\n",
      "117\n",
      "117\n"
     ]
    }
   ],
   "source": [
    "URL = ['https://www.skinnytaste.com/recipe-index/?_course=soup']\n",
    "Time = []\n",
    "sub_url = []\n",
    "\n",
    "for i in range(2, 7):\n",
    "    URL.append(URL[0] + '&_paged=' + str(i))  # 7 pages\n",
    "\n",
    "for j in URL:\n",
    "    page = requests.get(j)\n",
    "    soup = BeautifulSoup(page.text)\n",
    "    print(page)\n",
    "\n",
    "    for i in soup.find_all('article', class_='ast-archive-post'):\n",
    "        time= i.find('span', class_='wprm-total-time')\n",
    "        Time.append(time.text.strip() if time else np.nan)\n",
    "\n",
    "    for l in soup.find_all('div', class_='post-thumb-img-content post-thumb'):\n",
    "        a = re.findall('href=\\\"(.+)\"><img', str(l))\n",
    "        sub_url.append(a[0].split(' ')[0].split('\"')[0])\n",
    "        \n",
    "print(len(Time))  \n",
    "print(len(sub_url))"
   ]
  },
  {
   "cell_type": "code",
   "execution_count": 6,
   "id": "257b864e",
   "metadata": {
    "collapsed": true
   },
   "outputs": [
    {
     "ename": "KeyboardInterrupt",
     "evalue": "",
     "output_type": "error",
     "traceback": [
      "\u001b[1;31m---------------------------------------------------------------------------\u001b[0m",
      "\u001b[1;31mKeyboardInterrupt\u001b[0m                         Traceback (most recent call last)",
      "Cell \u001b[1;32mIn[6], line 18\u001b[0m\n\u001b[0;32m     16\u001b[0m \u001b[38;5;66;03m# Fetching sub-URLs inside the loop\u001b[39;00m\n\u001b[0;32m     17\u001b[0m \u001b[38;5;28;01mfor\u001b[39;00m sub \u001b[38;5;129;01min\u001b[39;00m sub_url:\n\u001b[1;32m---> 18\u001b[0m     page1\u001b[38;5;241m=\u001b[39mrequests\u001b[38;5;241m.\u001b[39mget(sub)\n\u001b[0;32m     19\u001b[0m     soup1\u001b[38;5;241m=\u001b[39mBeautifulSoup(page1\u001b[38;5;241m.\u001b[39mtext)\n\u001b[0;32m     21\u001b[0m     Title\u001b[38;5;241m.\u001b[39mappend(soup1\u001b[38;5;241m.\u001b[39mfind(\u001b[38;5;124m'\u001b[39m\u001b[38;5;124mh1\u001b[39m\u001b[38;5;124m'\u001b[39m)\u001b[38;5;241m.\u001b[39mtext)\n",
      "File \u001b[1;32m~\\anaconda3\\Lib\\site-packages\\requests\\api.py:73\u001b[0m, in \u001b[0;36mget\u001b[1;34m(url, params, **kwargs)\u001b[0m\n\u001b[0;32m     62\u001b[0m \u001b[38;5;28;01mdef\u001b[39;00m \u001b[38;5;21mget\u001b[39m(url, params\u001b[38;5;241m=\u001b[39m\u001b[38;5;28;01mNone\u001b[39;00m, \u001b[38;5;241m*\u001b[39m\u001b[38;5;241m*\u001b[39mkwargs):\n\u001b[0;32m     63\u001b[0m \u001b[38;5;250m    \u001b[39m\u001b[38;5;124mr\u001b[39m\u001b[38;5;124;03m\"\"\"Sends a GET request.\u001b[39;00m\n\u001b[0;32m     64\u001b[0m \n\u001b[0;32m     65\u001b[0m \u001b[38;5;124;03m    :param url: URL for the new :class:`Request` object.\u001b[39;00m\n\u001b[1;32m   (...)\u001b[0m\n\u001b[0;32m     70\u001b[0m \u001b[38;5;124;03m    :rtype: requests.Response\u001b[39;00m\n\u001b[0;32m     71\u001b[0m \u001b[38;5;124;03m    \"\"\"\u001b[39;00m\n\u001b[1;32m---> 73\u001b[0m     \u001b[38;5;28;01mreturn\u001b[39;00m request(\u001b[38;5;124m\"\u001b[39m\u001b[38;5;124mget\u001b[39m\u001b[38;5;124m\"\u001b[39m, url, params\u001b[38;5;241m=\u001b[39mparams, \u001b[38;5;241m*\u001b[39m\u001b[38;5;241m*\u001b[39mkwargs)\n",
      "File \u001b[1;32m~\\anaconda3\\Lib\\site-packages\\requests\\api.py:59\u001b[0m, in \u001b[0;36mrequest\u001b[1;34m(method, url, **kwargs)\u001b[0m\n\u001b[0;32m     55\u001b[0m \u001b[38;5;66;03m# By using the 'with' statement we are sure the session is closed, thus we\u001b[39;00m\n\u001b[0;32m     56\u001b[0m \u001b[38;5;66;03m# avoid leaving sockets open which can trigger a ResourceWarning in some\u001b[39;00m\n\u001b[0;32m     57\u001b[0m \u001b[38;5;66;03m# cases, and look like a memory leak in others.\u001b[39;00m\n\u001b[0;32m     58\u001b[0m \u001b[38;5;28;01mwith\u001b[39;00m sessions\u001b[38;5;241m.\u001b[39mSession() \u001b[38;5;28;01mas\u001b[39;00m session:\n\u001b[1;32m---> 59\u001b[0m     \u001b[38;5;28;01mreturn\u001b[39;00m session\u001b[38;5;241m.\u001b[39mrequest(method\u001b[38;5;241m=\u001b[39mmethod, url\u001b[38;5;241m=\u001b[39murl, \u001b[38;5;241m*\u001b[39m\u001b[38;5;241m*\u001b[39mkwargs)\n",
      "File \u001b[1;32m~\\anaconda3\\Lib\\site-packages\\requests\\sessions.py:589\u001b[0m, in \u001b[0;36mSession.request\u001b[1;34m(self, method, url, params, data, headers, cookies, files, auth, timeout, allow_redirects, proxies, hooks, stream, verify, cert, json)\u001b[0m\n\u001b[0;32m    584\u001b[0m send_kwargs \u001b[38;5;241m=\u001b[39m {\n\u001b[0;32m    585\u001b[0m     \u001b[38;5;124m\"\u001b[39m\u001b[38;5;124mtimeout\u001b[39m\u001b[38;5;124m\"\u001b[39m: timeout,\n\u001b[0;32m    586\u001b[0m     \u001b[38;5;124m\"\u001b[39m\u001b[38;5;124mallow_redirects\u001b[39m\u001b[38;5;124m\"\u001b[39m: allow_redirects,\n\u001b[0;32m    587\u001b[0m }\n\u001b[0;32m    588\u001b[0m send_kwargs\u001b[38;5;241m.\u001b[39mupdate(settings)\n\u001b[1;32m--> 589\u001b[0m resp \u001b[38;5;241m=\u001b[39m \u001b[38;5;28mself\u001b[39m\u001b[38;5;241m.\u001b[39msend(prep, \u001b[38;5;241m*\u001b[39m\u001b[38;5;241m*\u001b[39msend_kwargs)\n\u001b[0;32m    591\u001b[0m \u001b[38;5;28;01mreturn\u001b[39;00m resp\n",
      "File \u001b[1;32m~\\anaconda3\\Lib\\site-packages\\requests\\sessions.py:703\u001b[0m, in \u001b[0;36mSession.send\u001b[1;34m(self, request, **kwargs)\u001b[0m\n\u001b[0;32m    700\u001b[0m start \u001b[38;5;241m=\u001b[39m preferred_clock()\n\u001b[0;32m    702\u001b[0m \u001b[38;5;66;03m# Send the request\u001b[39;00m\n\u001b[1;32m--> 703\u001b[0m r \u001b[38;5;241m=\u001b[39m adapter\u001b[38;5;241m.\u001b[39msend(request, \u001b[38;5;241m*\u001b[39m\u001b[38;5;241m*\u001b[39mkwargs)\n\u001b[0;32m    705\u001b[0m \u001b[38;5;66;03m# Total elapsed time of the request (approximately)\u001b[39;00m\n\u001b[0;32m    706\u001b[0m elapsed \u001b[38;5;241m=\u001b[39m preferred_clock() \u001b[38;5;241m-\u001b[39m start\n",
      "File \u001b[1;32m~\\anaconda3\\Lib\\site-packages\\requests\\adapters.py:486\u001b[0m, in \u001b[0;36mHTTPAdapter.send\u001b[1;34m(self, request, stream, timeout, verify, cert, proxies)\u001b[0m\n\u001b[0;32m    483\u001b[0m     timeout \u001b[38;5;241m=\u001b[39m TimeoutSauce(connect\u001b[38;5;241m=\u001b[39mtimeout, read\u001b[38;5;241m=\u001b[39mtimeout)\n\u001b[0;32m    485\u001b[0m \u001b[38;5;28;01mtry\u001b[39;00m:\n\u001b[1;32m--> 486\u001b[0m     resp \u001b[38;5;241m=\u001b[39m conn\u001b[38;5;241m.\u001b[39murlopen(\n\u001b[0;32m    487\u001b[0m         method\u001b[38;5;241m=\u001b[39mrequest\u001b[38;5;241m.\u001b[39mmethod,\n\u001b[0;32m    488\u001b[0m         url\u001b[38;5;241m=\u001b[39murl,\n\u001b[0;32m    489\u001b[0m         body\u001b[38;5;241m=\u001b[39mrequest\u001b[38;5;241m.\u001b[39mbody,\n\u001b[0;32m    490\u001b[0m         headers\u001b[38;5;241m=\u001b[39mrequest\u001b[38;5;241m.\u001b[39mheaders,\n\u001b[0;32m    491\u001b[0m         redirect\u001b[38;5;241m=\u001b[39m\u001b[38;5;28;01mFalse\u001b[39;00m,\n\u001b[0;32m    492\u001b[0m         assert_same_host\u001b[38;5;241m=\u001b[39m\u001b[38;5;28;01mFalse\u001b[39;00m,\n\u001b[0;32m    493\u001b[0m         preload_content\u001b[38;5;241m=\u001b[39m\u001b[38;5;28;01mFalse\u001b[39;00m,\n\u001b[0;32m    494\u001b[0m         decode_content\u001b[38;5;241m=\u001b[39m\u001b[38;5;28;01mFalse\u001b[39;00m,\n\u001b[0;32m    495\u001b[0m         retries\u001b[38;5;241m=\u001b[39m\u001b[38;5;28mself\u001b[39m\u001b[38;5;241m.\u001b[39mmax_retries,\n\u001b[0;32m    496\u001b[0m         timeout\u001b[38;5;241m=\u001b[39mtimeout,\n\u001b[0;32m    497\u001b[0m         chunked\u001b[38;5;241m=\u001b[39mchunked,\n\u001b[0;32m    498\u001b[0m     )\n\u001b[0;32m    500\u001b[0m \u001b[38;5;28;01mexcept\u001b[39;00m (ProtocolError, \u001b[38;5;167;01mOSError\u001b[39;00m) \u001b[38;5;28;01mas\u001b[39;00m err:\n\u001b[0;32m    501\u001b[0m     \u001b[38;5;28;01mraise\u001b[39;00m \u001b[38;5;167;01mConnectionError\u001b[39;00m(err, request\u001b[38;5;241m=\u001b[39mrequest)\n",
      "File \u001b[1;32m~\\anaconda3\\Lib\\site-packages\\urllib3\\connectionpool.py:714\u001b[0m, in \u001b[0;36mHTTPConnectionPool.urlopen\u001b[1;34m(self, method, url, body, headers, retries, redirect, assert_same_host, timeout, pool_timeout, release_conn, chunked, body_pos, **response_kw)\u001b[0m\n\u001b[0;32m    711\u001b[0m     \u001b[38;5;28mself\u001b[39m\u001b[38;5;241m.\u001b[39m_prepare_proxy(conn)\n\u001b[0;32m    713\u001b[0m \u001b[38;5;66;03m# Make the request on the httplib connection object.\u001b[39;00m\n\u001b[1;32m--> 714\u001b[0m httplib_response \u001b[38;5;241m=\u001b[39m \u001b[38;5;28mself\u001b[39m\u001b[38;5;241m.\u001b[39m_make_request(\n\u001b[0;32m    715\u001b[0m     conn,\n\u001b[0;32m    716\u001b[0m     method,\n\u001b[0;32m    717\u001b[0m     url,\n\u001b[0;32m    718\u001b[0m     timeout\u001b[38;5;241m=\u001b[39mtimeout_obj,\n\u001b[0;32m    719\u001b[0m     body\u001b[38;5;241m=\u001b[39mbody,\n\u001b[0;32m    720\u001b[0m     headers\u001b[38;5;241m=\u001b[39mheaders,\n\u001b[0;32m    721\u001b[0m     chunked\u001b[38;5;241m=\u001b[39mchunked,\n\u001b[0;32m    722\u001b[0m )\n\u001b[0;32m    724\u001b[0m \u001b[38;5;66;03m# If we're going to release the connection in ``finally:``, then\u001b[39;00m\n\u001b[0;32m    725\u001b[0m \u001b[38;5;66;03m# the response doesn't need to know about the connection. Otherwise\u001b[39;00m\n\u001b[0;32m    726\u001b[0m \u001b[38;5;66;03m# it will also try to release it and we'll have a double-release\u001b[39;00m\n\u001b[0;32m    727\u001b[0m \u001b[38;5;66;03m# mess.\u001b[39;00m\n\u001b[0;32m    728\u001b[0m response_conn \u001b[38;5;241m=\u001b[39m conn \u001b[38;5;28;01mif\u001b[39;00m \u001b[38;5;129;01mnot\u001b[39;00m release_conn \u001b[38;5;28;01melse\u001b[39;00m \u001b[38;5;28;01mNone\u001b[39;00m\n",
      "File \u001b[1;32m~\\anaconda3\\Lib\\site-packages\\urllib3\\connectionpool.py:466\u001b[0m, in \u001b[0;36mHTTPConnectionPool._make_request\u001b[1;34m(self, conn, method, url, timeout, chunked, **httplib_request_kw)\u001b[0m\n\u001b[0;32m    461\u001b[0m             httplib_response \u001b[38;5;241m=\u001b[39m conn\u001b[38;5;241m.\u001b[39mgetresponse()\n\u001b[0;32m    462\u001b[0m         \u001b[38;5;28;01mexcept\u001b[39;00m \u001b[38;5;167;01mBaseException\u001b[39;00m \u001b[38;5;28;01mas\u001b[39;00m e:\n\u001b[0;32m    463\u001b[0m             \u001b[38;5;66;03m# Remove the TypeError from the exception chain in\u001b[39;00m\n\u001b[0;32m    464\u001b[0m             \u001b[38;5;66;03m# Python 3 (including for exceptions like SystemExit).\u001b[39;00m\n\u001b[0;32m    465\u001b[0m             \u001b[38;5;66;03m# Otherwise it looks like a bug in the code.\u001b[39;00m\n\u001b[1;32m--> 466\u001b[0m             six\u001b[38;5;241m.\u001b[39mraise_from(e, \u001b[38;5;28;01mNone\u001b[39;00m)\n\u001b[0;32m    467\u001b[0m \u001b[38;5;28;01mexcept\u001b[39;00m (SocketTimeout, BaseSSLError, SocketError) \u001b[38;5;28;01mas\u001b[39;00m e:\n\u001b[0;32m    468\u001b[0m     \u001b[38;5;28mself\u001b[39m\u001b[38;5;241m.\u001b[39m_raise_timeout(err\u001b[38;5;241m=\u001b[39me, url\u001b[38;5;241m=\u001b[39murl, timeout_value\u001b[38;5;241m=\u001b[39mread_timeout)\n",
      "File \u001b[1;32m<string>:3\u001b[0m, in \u001b[0;36mraise_from\u001b[1;34m(value, from_value)\u001b[0m\n",
      "File \u001b[1;32m~\\anaconda3\\Lib\\site-packages\\urllib3\\connectionpool.py:461\u001b[0m, in \u001b[0;36mHTTPConnectionPool._make_request\u001b[1;34m(self, conn, method, url, timeout, chunked, **httplib_request_kw)\u001b[0m\n\u001b[0;32m    458\u001b[0m \u001b[38;5;28;01mexcept\u001b[39;00m \u001b[38;5;167;01mTypeError\u001b[39;00m:\n\u001b[0;32m    459\u001b[0m     \u001b[38;5;66;03m# Python 3\u001b[39;00m\n\u001b[0;32m    460\u001b[0m     \u001b[38;5;28;01mtry\u001b[39;00m:\n\u001b[1;32m--> 461\u001b[0m         httplib_response \u001b[38;5;241m=\u001b[39m conn\u001b[38;5;241m.\u001b[39mgetresponse()\n\u001b[0;32m    462\u001b[0m     \u001b[38;5;28;01mexcept\u001b[39;00m \u001b[38;5;167;01mBaseException\u001b[39;00m \u001b[38;5;28;01mas\u001b[39;00m e:\n\u001b[0;32m    463\u001b[0m         \u001b[38;5;66;03m# Remove the TypeError from the exception chain in\u001b[39;00m\n\u001b[0;32m    464\u001b[0m         \u001b[38;5;66;03m# Python 3 (including for exceptions like SystemExit).\u001b[39;00m\n\u001b[0;32m    465\u001b[0m         \u001b[38;5;66;03m# Otherwise it looks like a bug in the code.\u001b[39;00m\n\u001b[0;32m    466\u001b[0m         six\u001b[38;5;241m.\u001b[39mraise_from(e, \u001b[38;5;28;01mNone\u001b[39;00m)\n",
      "File \u001b[1;32m~\\anaconda3\\Lib\\http\\client.py:1378\u001b[0m, in \u001b[0;36mHTTPConnection.getresponse\u001b[1;34m(self)\u001b[0m\n\u001b[0;32m   1376\u001b[0m \u001b[38;5;28;01mtry\u001b[39;00m:\n\u001b[0;32m   1377\u001b[0m     \u001b[38;5;28;01mtry\u001b[39;00m:\n\u001b[1;32m-> 1378\u001b[0m         response\u001b[38;5;241m.\u001b[39mbegin()\n\u001b[0;32m   1379\u001b[0m     \u001b[38;5;28;01mexcept\u001b[39;00m \u001b[38;5;167;01mConnectionError\u001b[39;00m:\n\u001b[0;32m   1380\u001b[0m         \u001b[38;5;28mself\u001b[39m\u001b[38;5;241m.\u001b[39mclose()\n",
      "File \u001b[1;32m~\\anaconda3\\Lib\\http\\client.py:318\u001b[0m, in \u001b[0;36mHTTPResponse.begin\u001b[1;34m(self)\u001b[0m\n\u001b[0;32m    316\u001b[0m \u001b[38;5;66;03m# read until we get a non-100 response\u001b[39;00m\n\u001b[0;32m    317\u001b[0m \u001b[38;5;28;01mwhile\u001b[39;00m \u001b[38;5;28;01mTrue\u001b[39;00m:\n\u001b[1;32m--> 318\u001b[0m     version, status, reason \u001b[38;5;241m=\u001b[39m \u001b[38;5;28mself\u001b[39m\u001b[38;5;241m.\u001b[39m_read_status()\n\u001b[0;32m    319\u001b[0m     \u001b[38;5;28;01mif\u001b[39;00m status \u001b[38;5;241m!=\u001b[39m CONTINUE:\n\u001b[0;32m    320\u001b[0m         \u001b[38;5;28;01mbreak\u001b[39;00m\n",
      "File \u001b[1;32m~\\anaconda3\\Lib\\http\\client.py:279\u001b[0m, in \u001b[0;36mHTTPResponse._read_status\u001b[1;34m(self)\u001b[0m\n\u001b[0;32m    278\u001b[0m \u001b[38;5;28;01mdef\u001b[39;00m \u001b[38;5;21m_read_status\u001b[39m(\u001b[38;5;28mself\u001b[39m):\n\u001b[1;32m--> 279\u001b[0m     line \u001b[38;5;241m=\u001b[39m \u001b[38;5;28mstr\u001b[39m(\u001b[38;5;28mself\u001b[39m\u001b[38;5;241m.\u001b[39mfp\u001b[38;5;241m.\u001b[39mreadline(_MAXLINE \u001b[38;5;241m+\u001b[39m \u001b[38;5;241m1\u001b[39m), \u001b[38;5;124m\"\u001b[39m\u001b[38;5;124miso-8859-1\u001b[39m\u001b[38;5;124m\"\u001b[39m)\n\u001b[0;32m    280\u001b[0m     \u001b[38;5;28;01mif\u001b[39;00m \u001b[38;5;28mlen\u001b[39m(line) \u001b[38;5;241m>\u001b[39m _MAXLINE:\n\u001b[0;32m    281\u001b[0m         \u001b[38;5;28;01mraise\u001b[39;00m LineTooLong(\u001b[38;5;124m\"\u001b[39m\u001b[38;5;124mstatus line\u001b[39m\u001b[38;5;124m\"\u001b[39m)\n",
      "File \u001b[1;32m~\\anaconda3\\Lib\\socket.py:706\u001b[0m, in \u001b[0;36mSocketIO.readinto\u001b[1;34m(self, b)\u001b[0m\n\u001b[0;32m    704\u001b[0m \u001b[38;5;28;01mwhile\u001b[39;00m \u001b[38;5;28;01mTrue\u001b[39;00m:\n\u001b[0;32m    705\u001b[0m     \u001b[38;5;28;01mtry\u001b[39;00m:\n\u001b[1;32m--> 706\u001b[0m         \u001b[38;5;28;01mreturn\u001b[39;00m \u001b[38;5;28mself\u001b[39m\u001b[38;5;241m.\u001b[39m_sock\u001b[38;5;241m.\u001b[39mrecv_into(b)\n\u001b[0;32m    707\u001b[0m     \u001b[38;5;28;01mexcept\u001b[39;00m timeout:\n\u001b[0;32m    708\u001b[0m         \u001b[38;5;28mself\u001b[39m\u001b[38;5;241m.\u001b[39m_timeout_occurred \u001b[38;5;241m=\u001b[39m \u001b[38;5;28;01mTrue\u001b[39;00m\n",
      "File \u001b[1;32m~\\anaconda3\\Lib\\ssl.py:1311\u001b[0m, in \u001b[0;36mSSLSocket.recv_into\u001b[1;34m(self, buffer, nbytes, flags)\u001b[0m\n\u001b[0;32m   1307\u001b[0m     \u001b[38;5;28;01mif\u001b[39;00m flags \u001b[38;5;241m!=\u001b[39m \u001b[38;5;241m0\u001b[39m:\n\u001b[0;32m   1308\u001b[0m         \u001b[38;5;28;01mraise\u001b[39;00m \u001b[38;5;167;01mValueError\u001b[39;00m(\n\u001b[0;32m   1309\u001b[0m           \u001b[38;5;124m\"\u001b[39m\u001b[38;5;124mnon-zero flags not allowed in calls to recv_into() on \u001b[39m\u001b[38;5;132;01m%s\u001b[39;00m\u001b[38;5;124m\"\u001b[39m \u001b[38;5;241m%\u001b[39m\n\u001b[0;32m   1310\u001b[0m           \u001b[38;5;28mself\u001b[39m\u001b[38;5;241m.\u001b[39m\u001b[38;5;18m__class__\u001b[39m)\n\u001b[1;32m-> 1311\u001b[0m     \u001b[38;5;28;01mreturn\u001b[39;00m \u001b[38;5;28mself\u001b[39m\u001b[38;5;241m.\u001b[39mread(nbytes, buffer)\n\u001b[0;32m   1312\u001b[0m \u001b[38;5;28;01melse\u001b[39;00m:\n\u001b[0;32m   1313\u001b[0m     \u001b[38;5;28;01mreturn\u001b[39;00m \u001b[38;5;28msuper\u001b[39m()\u001b[38;5;241m.\u001b[39mrecv_into(buffer, nbytes, flags)\n",
      "File \u001b[1;32m~\\anaconda3\\Lib\\ssl.py:1167\u001b[0m, in \u001b[0;36mSSLSocket.read\u001b[1;34m(self, len, buffer)\u001b[0m\n\u001b[0;32m   1165\u001b[0m \u001b[38;5;28;01mtry\u001b[39;00m:\n\u001b[0;32m   1166\u001b[0m     \u001b[38;5;28;01mif\u001b[39;00m buffer \u001b[38;5;129;01mis\u001b[39;00m \u001b[38;5;129;01mnot\u001b[39;00m \u001b[38;5;28;01mNone\u001b[39;00m:\n\u001b[1;32m-> 1167\u001b[0m         \u001b[38;5;28;01mreturn\u001b[39;00m \u001b[38;5;28mself\u001b[39m\u001b[38;5;241m.\u001b[39m_sslobj\u001b[38;5;241m.\u001b[39mread(\u001b[38;5;28mlen\u001b[39m, buffer)\n\u001b[0;32m   1168\u001b[0m     \u001b[38;5;28;01melse\u001b[39;00m:\n\u001b[0;32m   1169\u001b[0m         \u001b[38;5;28;01mreturn\u001b[39;00m \u001b[38;5;28mself\u001b[39m\u001b[38;5;241m.\u001b[39m_sslobj\u001b[38;5;241m.\u001b[39mread(\u001b[38;5;28mlen\u001b[39m)\n",
      "\u001b[1;31mKeyboardInterrupt\u001b[0m: "
     ]
    }
   ],
   "source": [
    "Title=[]\n",
    "rating=[]\n",
    "protein=[]\n",
    "carbs=[]\n",
    "calories=[]\n",
    "fat=[]\n",
    "serving=[]\n",
    "type_of=[]\n",
    "cholesterol=[]\n",
    "sodium=[]\n",
    "fiber=[]\n",
    "sugar=[]\n",
    "pre_time=[]\n",
    "cook_time=[]\n",
    "    \n",
    "# Fetching sub-URLs inside the loop\n",
    "for sub in sub_url:\n",
    "    page1=requests.get(sub)\n",
    "    soup1=BeautifulSoup(page1.text)\n",
    "    \n",
    "    Title.append(soup1.find('h1').text)\n",
    "    \n",
    "    r=soup1.find('span',class_='wprm-recipe-rating-average')\n",
    "    rating.append(r.text if r else np.nan)\n",
    "    \n",
    "    cal=soup1.find('span',class_='recipe-meta-value value-calories')\n",
    "    calories.append(cal.text.split(' ')[1] if cal else np.nan)\n",
    "    \n",
    "    p=soup1.find('span',class_='recipe-meta-value value-protein')\n",
    "    protein.append(p.text.split(' ')[1] if p else np.nan)\n",
    "    \n",
    "    car=soup1.find('span',class_='recipe-meta-value value-carbs')\n",
    "    carbs.append(car.text.split(' ')[1] if car else np.nan)\n",
    "    \n",
    "    f=soup1.find('span',class_='recipe-meta-value value-fat')\n",
    "    fat.append(f.text.split(' ')[1] if f else np.nan)\n",
    "    \n",
    "    s=soup1.find('span',class_='wprm-recipe-details wprm-recipe-nutrition wprm-recipe-serving_size wprm-block-text-normal')\n",
    "    serving.append(s.text if s else np.nan)\n",
    "    \n",
    "    t=soup1.find('a',class_= 'tasty-link')\n",
    "    type_of.append(t.text if t else np.nan)\n",
    "    \n",
    "    c=soup1.find('span',class_='wprm-nutrition-label-text-nutrition-container wprm-nutrition-label-text-nutrition-container-cholesterol')\n",
    "    cholesterol.append(c.text.split(' ')[1] if c else np.nan)\n",
    "    \n",
    "    sod=soup1.find('span',class_='wprm-nutrition-label-text-nutrition-container wprm-nutrition-label-text-nutrition-container-sodium')\n",
    "    sodium.append(sod.text.split()[1] if sod else np.nan)\n",
    "    \n",
    "    f=soup1.find('span',class_='wprm-nutrition-label-text-nutrition-container wprm-nutrition-label-text-nutrition-container-fiber')\n",
    "    fiber.append(f.text.split()[1] if f else np.nan)\n",
    "    \n",
    "    ss=soup1.find('span',class_='wprm-nutrition-label-text-nutrition-container wprm-nutrition-label-text-nutrition-container-sugar')\n",
    "    sugar.append(ss.text.split()[1] if ss else np.nan)\n",
    "    \n",
    "    pt=soup1.find('span',class_='wprm-recipe-details wprm-recipe-details-minutes wprm-recipe-prep_time wprm-recipe-prep_time-minutes')\n",
    "    pre_time.append(pt.text.split()[0] if pt else np.nan)\n",
    "    \n",
    "    ct=soup1.find('span',class_='wprm-recipe-details wprm-recipe-details-minutes wprm-recipe-cook_time wprm-recipe-cook_time-minutes')\n",
    "    cook_time.append(ct.text.split()[0] if ct else np.nan)\n",
    "    \n",
    "    \n",
    "    \n",
    "print(len(Title))\n",
    "print(len(rating))\n",
    "print(len(protein))\n",
    "print(len(calories))\n",
    "print(len(carbs))\n",
    "print(len(fat))\n",
    "print(len(serving))\n",
    "print(len(type_of))\n",
    "print(len(cholesterol))\n",
    "print(len(sodium))\n",
    "print(len(fiber))\n",
    "print(len(sugar))\n",
    "print(len(pre_time))\n",
    "print(len(cook_time))\n",
    "\n"
   ]
  },
  {
   "cell_type": "code",
   "execution_count": 5,
   "id": "25ded33e",
   "metadata": {},
   "outputs": [
    {
     "data": {
      "text/html": [
       "<div>\n",
       "<style scoped>\n",
       "    .dataframe tbody tr th:only-of-type {\n",
       "        vertical-align: middle;\n",
       "    }\n",
       "\n",
       "    .dataframe tbody tr th {\n",
       "        vertical-align: top;\n",
       "    }\n",
       "\n",
       "    .dataframe thead th {\n",
       "        text-align: right;\n",
       "    }\n",
       "</style>\n",
       "<table border=\"1\" class=\"dataframe\">\n",
       "  <thead>\n",
       "    <tr style=\"text-align: right;\">\n",
       "      <th></th>\n",
       "      <th>Recipe_Name</th>\n",
       "      <th>Type</th>\n",
       "      <th>Serving</th>\n",
       "      <th>Protein</th>\n",
       "      <th>Fat</th>\n",
       "      <th>Carbs</th>\n",
       "      <th>Calories</th>\n",
       "      <th>cholesterol</th>\n",
       "      <th>sodium</th>\n",
       "      <th>fiber</th>\n",
       "      <th>sugar</th>\n",
       "      <th>Prepare time</th>\n",
       "      <th>cooking time</th>\n",
       "      <th>Total_Time</th>\n",
       "      <th>Ratings</th>\n",
       "    </tr>\n",
       "  </thead>\n",
       "  <tbody>\n",
       "    <tr>\n",
       "      <th>114</th>\n",
       "      <td>Butternut Squash Soup with Sage</td>\n",
       "      <td>Dinner</td>\n",
       "      <td>1</td>\n",
       "      <td>2.5</td>\n",
       "      <td>0.5</td>\n",
       "      <td>11.5</td>\n",
       "      <td>56</td>\n",
       "      <td>NaN</td>\n",
       "      <td>300</td>\n",
       "      <td>2.5</td>\n",
       "      <td>1.5</td>\n",
       "      <td>15</td>\n",
       "      <td>45</td>\n",
       "      <td>1 hr</td>\n",
       "      <td>4.28</td>\n",
       "    </tr>\n",
       "    <tr>\n",
       "      <th>115</th>\n",
       "      <td>Dad’s Cauliflower Soup</td>\n",
       "      <td>NaN</td>\n",
       "      <td>1</td>\n",
       "      <td>3.3</td>\n",
       "      <td>0.6</td>\n",
       "      <td>8.8</td>\n",
       "      <td>45.1</td>\n",
       "      <td>0.3</td>\n",
       "      <td>469.1</td>\n",
       "      <td>3.7</td>\n",
       "      <td>NaN</td>\n",
       "      <td>5</td>\n",
       "      <td>25</td>\n",
       "      <td>30 mins</td>\n",
       "      <td>5</td>\n",
       "    </tr>\n",
       "    <tr>\n",
       "      <th>116</th>\n",
       "      <td>Split Pea Soup with Ham</td>\n",
       "      <td>Dinner</td>\n",
       "      <td>1</td>\n",
       "      <td>27</td>\n",
       "      <td>8.5</td>\n",
       "      <td>54.5</td>\n",
       "      <td>394</td>\n",
       "      <td>33.5</td>\n",
       "      <td>606</td>\n",
       "      <td>18</td>\n",
       "      <td>7.5</td>\n",
       "      <td>5</td>\n",
       "      <td>NaN</td>\n",
       "      <td>2 hrs</td>\n",
       "      <td>4.87</td>\n",
       "    </tr>\n",
       "  </tbody>\n",
       "</table>\n",
       "</div>"
      ],
      "text/plain": [
       "                         Recipe_Name    Type Serving Protein  Fat Carbs  \\\n",
       "114  Butternut Squash Soup with Sage  Dinner       1     2.5  0.5  11.5   \n",
       "115           Dad’s Cauliflower Soup     NaN       1     3.3  0.6   8.8   \n",
       "116          Split Pea Soup with Ham  Dinner       1      27  8.5  54.5   \n",
       "\n",
       "    Calories cholesterol sodium fiber sugar Prepare time cooking time  \\\n",
       "114       56         NaN    300   2.5   1.5           15           45   \n",
       "115     45.1         0.3  469.1   3.7   NaN            5           25   \n",
       "116      394        33.5    606    18   7.5            5          NaN   \n",
       "\n",
       "    Total_Time Ratings  \n",
       "114       1 hr    4.28  \n",
       "115    30 mins       5  \n",
       "116      2 hrs    4.87  "
      ]
     },
     "execution_count": 5,
     "metadata": {},
     "output_type": "execute_result"
    }
   ],
   "source": [
    "df6=pd.DataFrame({'Recipe_Name':Title,\n",
    "                  \"Type\":type_of,\n",
    "                  'Serving':serving,\n",
    "                  \"Protein\":protein,\n",
    "                  \"Fat\":fat,\n",
    "                  \"Carbs\":carbs,\n",
    "                  \"Calories\":calories,\n",
    "                  'cholesterol':cholesterol,\n",
    "                  'sodium':sodium,\n",
    "                  'fiber':fiber,\n",
    "                  'sugar':sugar,\n",
    "                    'Prepare time':pre_time,\n",
    "                  'cooking time': cook_time,\n",
    "                  \"Total_Time\":Time,\n",
    "                  \"Ratings\":rating,\n",
    "\n",
    "                 \n",
    "                 \n",
    "                 })\n",
    "df6.tail(3)"
   ]
  },
  {
   "cell_type": "code",
   "execution_count": 8,
   "id": "31e56cfa",
   "metadata": {},
   "outputs": [
    {
     "data": {
      "text/html": [
       "<div>\n",
       "<style scoped>\n",
       "    .dataframe tbody tr th:only-of-type {\n",
       "        vertical-align: middle;\n",
       "    }\n",
       "\n",
       "    .dataframe tbody tr th {\n",
       "        vertical-align: top;\n",
       "    }\n",
       "\n",
       "    .dataframe thead th {\n",
       "        text-align: right;\n",
       "    }\n",
       "</style>\n",
       "<table border=\"1\" class=\"dataframe\">\n",
       "  <thead>\n",
       "    <tr style=\"text-align: right;\">\n",
       "      <th></th>\n",
       "      <th>Recipe_Name</th>\n",
       "      <th>Type</th>\n",
       "      <th>Serving</th>\n",
       "      <th>Protein</th>\n",
       "      <th>Fat</th>\n",
       "      <th>Carbs</th>\n",
       "      <th>Calories</th>\n",
       "      <th>cholesterol</th>\n",
       "      <th>sodium</th>\n",
       "      <th>fiber</th>\n",
       "      <th>sugar</th>\n",
       "      <th>Prepare time</th>\n",
       "      <th>cooking time</th>\n",
       "      <th>Total_Time</th>\n",
       "      <th>Ratings</th>\n",
       "    </tr>\n",
       "  </thead>\n",
       "  <tbody>\n",
       "    <tr>\n",
       "      <th>0</th>\n",
       "      <td>Cream of Asparagus Soup</td>\n",
       "      <td>asparagus</td>\n",
       "      <td>1.0</td>\n",
       "      <td>6.0</td>\n",
       "      <td>3.0</td>\n",
       "      <td>10.0</td>\n",
       "      <td>81.0</td>\n",
       "      <td>7.0</td>\n",
       "      <td>576.0</td>\n",
       "      <td>4.0</td>\n",
       "      <td>1.0</td>\n",
       "      <td>5.0</td>\n",
       "      <td>20.0</td>\n",
       "      <td>25 mins</td>\n",
       "      <td>4.83</td>\n",
       "    </tr>\n",
       "    <tr>\n",
       "      <th>1</th>\n",
       "      <td>Slow Cooker Chicken and Lentil Soup</td>\n",
       "      <td>lunch</td>\n",
       "      <td>1.0</td>\n",
       "      <td>29.5</td>\n",
       "      <td>8.5</td>\n",
       "      <td>41.0</td>\n",
       "      <td>350.0</td>\n",
       "      <td>67.5</td>\n",
       "      <td>539.5</td>\n",
       "      <td>7.0</td>\n",
       "      <td>4.5</td>\n",
       "      <td>15.0</td>\n",
       "      <td>NaN</td>\n",
       "      <td>4 hrs 15 mins</td>\n",
       "      <td>4.77</td>\n",
       "    </tr>\n",
       "    <tr>\n",
       "      <th>2</th>\n",
       "      <td>Butternut Squash Soup</td>\n",
       "      <td>Dinner</td>\n",
       "      <td>1.0</td>\n",
       "      <td>3.0</td>\n",
       "      <td>4.0</td>\n",
       "      <td>28.0</td>\n",
       "      <td>144.0</td>\n",
       "      <td>NaN</td>\n",
       "      <td>199.0</td>\n",
       "      <td>5.0</td>\n",
       "      <td>10.0</td>\n",
       "      <td>20.0</td>\n",
       "      <td>40.0</td>\n",
       "      <td>1 hr</td>\n",
       "      <td>5.00</td>\n",
       "    </tr>\n",
       "    <tr>\n",
       "      <th>3</th>\n",
       "      <td>Chicken Pot Pie Soup</td>\n",
       "      <td>Dinner</td>\n",
       "      <td>1.0</td>\n",
       "      <td>30.0</td>\n",
       "      <td>3.5</td>\n",
       "      <td>32.0</td>\n",
       "      <td>268.0</td>\n",
       "      <td>64.0</td>\n",
       "      <td>983.0</td>\n",
       "      <td>4.0</td>\n",
       "      <td>12.0</td>\n",
       "      <td>10.0</td>\n",
       "      <td>35.0</td>\n",
       "      <td>45 mins</td>\n",
       "      <td>4.75</td>\n",
       "    </tr>\n",
       "    <tr>\n",
       "      <th>4</th>\n",
       "      <td>Chicken Gnocchi Soup</td>\n",
       "      <td>Dinner</td>\n",
       "      <td>1.0</td>\n",
       "      <td>29.5</td>\n",
       "      <td>7.5</td>\n",
       "      <td>37.0</td>\n",
       "      <td>341.0</td>\n",
       "      <td>86.0</td>\n",
       "      <td>790.5</td>\n",
       "      <td>2.5</td>\n",
       "      <td>2.5</td>\n",
       "      <td>10.0</td>\n",
       "      <td>35.0</td>\n",
       "      <td>45 mins</td>\n",
       "      <td>4.95</td>\n",
       "    </tr>\n",
       "    <tr>\n",
       "      <th>...</th>\n",
       "      <td>...</td>\n",
       "      <td>...</td>\n",
       "      <td>...</td>\n",
       "      <td>...</td>\n",
       "      <td>...</td>\n",
       "      <td>...</td>\n",
       "      <td>...</td>\n",
       "      <td>...</td>\n",
       "      <td>...</td>\n",
       "      <td>...</td>\n",
       "      <td>...</td>\n",
       "      <td>...</td>\n",
       "      <td>...</td>\n",
       "      <td>...</td>\n",
       "      <td>...</td>\n",
       "    </tr>\n",
       "    <tr>\n",
       "      <th>112</th>\n",
       "      <td>Turkey Sausage, Kale and White Bean Soup</td>\n",
       "      <td>Dinner</td>\n",
       "      <td>2.0</td>\n",
       "      <td>33.0</td>\n",
       "      <td>13.0</td>\n",
       "      <td>15.0</td>\n",
       "      <td>320.5</td>\n",
       "      <td>105.0</td>\n",
       "      <td>697.0</td>\n",
       "      <td>5.0</td>\n",
       "      <td>1.0</td>\n",
       "      <td>10.0</td>\n",
       "      <td>35.0</td>\n",
       "      <td>45 mins</td>\n",
       "      <td>4.67</td>\n",
       "    </tr>\n",
       "    <tr>\n",
       "      <th>113</th>\n",
       "      <td>Spinach Stracciatella Soup with Orzo</td>\n",
       "      <td>dinner</td>\n",
       "      <td>1.0</td>\n",
       "      <td>10.0</td>\n",
       "      <td>4.0</td>\n",
       "      <td>11.0</td>\n",
       "      <td>127.0</td>\n",
       "      <td>69.0</td>\n",
       "      <td>868.0</td>\n",
       "      <td>1.0</td>\n",
       "      <td>2.0</td>\n",
       "      <td>10.0</td>\n",
       "      <td>20.0</td>\n",
       "      <td>30 mins</td>\n",
       "      <td>5.00</td>\n",
       "    </tr>\n",
       "    <tr>\n",
       "      <th>114</th>\n",
       "      <td>Butternut Squash Soup with Sage</td>\n",
       "      <td>Dinner</td>\n",
       "      <td>1.0</td>\n",
       "      <td>2.5</td>\n",
       "      <td>0.5</td>\n",
       "      <td>11.5</td>\n",
       "      <td>56.0</td>\n",
       "      <td>NaN</td>\n",
       "      <td>300.0</td>\n",
       "      <td>2.5</td>\n",
       "      <td>1.5</td>\n",
       "      <td>15.0</td>\n",
       "      <td>45.0</td>\n",
       "      <td>1 hr</td>\n",
       "      <td>4.28</td>\n",
       "    </tr>\n",
       "    <tr>\n",
       "      <th>115</th>\n",
       "      <td>Dad’s Cauliflower Soup</td>\n",
       "      <td>NaN</td>\n",
       "      <td>1.0</td>\n",
       "      <td>3.3</td>\n",
       "      <td>0.6</td>\n",
       "      <td>8.8</td>\n",
       "      <td>45.1</td>\n",
       "      <td>0.3</td>\n",
       "      <td>469.1</td>\n",
       "      <td>3.7</td>\n",
       "      <td>NaN</td>\n",
       "      <td>5.0</td>\n",
       "      <td>25.0</td>\n",
       "      <td>30 mins</td>\n",
       "      <td>5.00</td>\n",
       "    </tr>\n",
       "    <tr>\n",
       "      <th>116</th>\n",
       "      <td>Split Pea Soup with Ham</td>\n",
       "      <td>Dinner</td>\n",
       "      <td>1.0</td>\n",
       "      <td>27.0</td>\n",
       "      <td>8.5</td>\n",
       "      <td>54.5</td>\n",
       "      <td>394.0</td>\n",
       "      <td>33.5</td>\n",
       "      <td>606.0</td>\n",
       "      <td>18.0</td>\n",
       "      <td>7.5</td>\n",
       "      <td>5.0</td>\n",
       "      <td>NaN</td>\n",
       "      <td>2 hrs</td>\n",
       "      <td>4.87</td>\n",
       "    </tr>\n",
       "  </tbody>\n",
       "</table>\n",
       "<p>117 rows × 15 columns</p>\n",
       "</div>"
      ],
      "text/plain": [
       "                                  Recipe_Name       Type  Serving  Protein  \\\n",
       "0                     Cream of Asparagus Soup  asparagus      1.0      6.0   \n",
       "1         Slow Cooker Chicken and Lentil Soup      lunch      1.0     29.5   \n",
       "2                       Butternut Squash Soup     Dinner      1.0      3.0   \n",
       "3                        Chicken Pot Pie Soup     Dinner      1.0     30.0   \n",
       "4                        Chicken Gnocchi Soup     Dinner      1.0     29.5   \n",
       "..                                        ...        ...      ...      ...   \n",
       "112  Turkey Sausage, Kale and White Bean Soup     Dinner      2.0     33.0   \n",
       "113      Spinach Stracciatella Soup with Orzo     dinner      1.0     10.0   \n",
       "114           Butternut Squash Soup with Sage     Dinner      1.0      2.5   \n",
       "115                    Dad’s Cauliflower Soup        NaN      1.0      3.3   \n",
       "116                   Split Pea Soup with Ham     Dinner      1.0     27.0   \n",
       "\n",
       "      Fat  Carbs  Calories  cholesterol  sodium  fiber  sugar  Prepare time  \\\n",
       "0     3.0   10.0      81.0          7.0   576.0    4.0    1.0           5.0   \n",
       "1     8.5   41.0     350.0         67.5   539.5    7.0    4.5          15.0   \n",
       "2     4.0   28.0     144.0          NaN   199.0    5.0   10.0          20.0   \n",
       "3     3.5   32.0     268.0         64.0   983.0    4.0   12.0          10.0   \n",
       "4     7.5   37.0     341.0         86.0   790.5    2.5    2.5          10.0   \n",
       "..    ...    ...       ...          ...     ...    ...    ...           ...   \n",
       "112  13.0   15.0     320.5        105.0   697.0    5.0    1.0          10.0   \n",
       "113   4.0   11.0     127.0         69.0   868.0    1.0    2.0          10.0   \n",
       "114   0.5   11.5      56.0          NaN   300.0    2.5    1.5          15.0   \n",
       "115   0.6    8.8      45.1          0.3   469.1    3.7    NaN           5.0   \n",
       "116   8.5   54.5     394.0         33.5   606.0   18.0    7.5           5.0   \n",
       "\n",
       "     cooking time     Total_Time  Ratings  \n",
       "0            20.0        25 mins     4.83  \n",
       "1             NaN  4 hrs 15 mins     4.77  \n",
       "2            40.0           1 hr     5.00  \n",
       "3            35.0        45 mins     4.75  \n",
       "4            35.0        45 mins     4.95  \n",
       "..            ...            ...      ...  \n",
       "112          35.0        45 mins     4.67  \n",
       "113          20.0        30 mins     5.00  \n",
       "114          45.0           1 hr     4.28  \n",
       "115          25.0        30 mins     5.00  \n",
       "116           NaN          2 hrs     4.87  \n",
       "\n",
       "[117 rows x 15 columns]"
      ]
     },
     "execution_count": 8,
     "metadata": {},
     "output_type": "execute_result"
    }
   ],
   "source": [
    "#df6.to_csv(\"soup.csv\")\n",
    "df6=pd.read_csv('soup.csv',index_col=0)\n",
    "df6"
   ]
  },
  {
   "cell_type": "code",
   "execution_count": 9,
   "id": "863e5b78",
   "metadata": {},
   "outputs": [
    {
     "data": {
      "text/plain": [
       "array(['asparagus', 'lunch', 'Dinner', 'dinner', 'Instant Pot',\n",
       "       'Appetizer', 'quinoa', 'breakfast', 'dessert',\n",
       "       'boneless chicken thighs', 'appetizer'], dtype=object)"
      ]
     },
     "execution_count": 9,
     "metadata": {},
     "output_type": "execute_result"
    }
   ],
   "source": [
    "df6['Type'].unique()"
   ]
  },
  {
   "cell_type": "code",
   "execution_count": 8,
   "id": "885c8c92",
   "metadata": {},
   "outputs": [],
   "source": [
    "df6['Type']=df6['Type'].fillna(method='ffill')"
   ]
  },
  {
   "cell_type": "code",
   "execution_count": 10,
   "id": "4a2d75ad",
   "metadata": {},
   "outputs": [],
   "source": [
    "df6.to_csv(\"soup.csv\")\n"
   ]
  },
  {
   "cell_type": "code",
   "execution_count": null,
   "id": "936b2bc0",
   "metadata": {},
   "outputs": [],
   "source": []
  }
 ],
 "metadata": {
  "kernelspec": {
   "display_name": "Python 3 (ipykernel)",
   "language": "python",
   "name": "python3"
  },
  "language_info": {
   "codemirror_mode": {
    "name": "ipython",
    "version": 3
   },
   "file_extension": ".py",
   "mimetype": "text/x-python",
   "name": "python",
   "nbconvert_exporter": "python",
   "pygments_lexer": "ipython3",
   "version": "3.11.5"
  }
 },
 "nbformat": 4,
 "nbformat_minor": 5
}
