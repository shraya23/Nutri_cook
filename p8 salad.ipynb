{
 "cells": [
  {
   "cell_type": "code",
   "execution_count": 1,
   "id": "7c7793bf",
   "metadata": {},
   "outputs": [],
   "source": [
    "import re\n",
    "from bs4 import BeautifulSoup\n",
    "import requests\n",
    "import numpy as np\n",
    "import pandas as pd"
   ]
  },
  {
   "cell_type": "code",
   "execution_count": 2,
   "id": "87822c9c",
   "metadata": {},
   "outputs": [
    {
     "data": {
      "text/plain": [
       "<Response [200]>"
      ]
     },
     "execution_count": 2,
     "metadata": {},
     "output_type": "execute_result"
    }
   ],
   "source": [
    "url1='https://www.skinnytaste.com/recipe-index/?_course=dinner-recipes'\n",
    "page=requests.get(url1)\n",
    "page"
   ]
  },
  {
   "cell_type": "code",
   "execution_count": 3,
   "id": "1f2883b9",
   "metadata": {},
   "outputs": [],
   "source": [
    "soup = BeautifulSoup(page.text)\n",
    "#soup"
   ]
  },
  {
   "cell_type": "code",
   "execution_count": 4,
   "id": "807bfcec",
   "metadata": {},
   "outputs": [],
   "source": [
    "main=soup.find_all('span',class_='wprm-total-time')\n",
    "#main"
   ]
  },
  {
   "cell_type": "code",
   "execution_count": 1,
   "id": "cfb7af85",
   "metadata": {},
   "outputs": [
    {
     "data": {
      "text/plain": [
       "['https://www.skinnytaste.com/recipe-index/?_course=dinner-recipes',\n",
       " 'https://www.skinnytaste.com/recipe-index/?_course=dinner-recipes&_paged=2',\n",
       " 'https://www.skinnytaste.com/recipe-index/?_course=dinner-recipes&_paged=3',\n",
       " 'https://www.skinnytaste.com/recipe-index/?_course=dinner-recipes&_paged=4',\n",
       " 'https://www.skinnytaste.com/recipe-index/?_course=dinner-recipes&_paged=5',\n",
       " 'https://www.skinnytaste.com/recipe-index/?_course=dinner-recipes&_paged=6',\n",
       " 'https://www.skinnytaste.com/recipe-index/?_course=dinner-recipes&_paged=7',\n",
       " 'https://www.skinnytaste.com/recipe-index/?_course=dinner-recipes&_paged=8',\n",
       " 'https://www.skinnytaste.com/recipe-index/?_course=dinner-recipes&_paged=9',\n",
       " 'https://www.skinnytaste.com/recipe-index/?_course=dinner-recipes&_paged=10']"
      ]
     },
     "execution_count": 1,
     "metadata": {},
     "output_type": "execute_result"
    }
   ],
   "source": [
    "URL=['https://www.skinnytaste.com/recipe-index/?_course=dinner-recipes']\n",
    "for i in range(2,11):\n",
    "    URL.append(URL[0]+'&_paged='+str(i))\n",
    "\n",
    "URL"
   ]
  },
  {
   "cell_type": "markdown",
   "id": "527386c1",
   "metadata": {},
   "source": [
    "## Time- column"
   ]
  },
  {
   "cell_type": "code",
   "execution_count": 5,
   "id": "43e0504a",
   "metadata": {},
   "outputs": [],
   "source": [
    "import numpy as np"
   ]
  },
  {
   "cell_type": "code",
   "execution_count": 12,
   "id": "ae763bf6",
   "metadata": {},
   "outputs": [
    {
     "data": {
      "text/plain": [
       "[nan,\n",
       " '4 hrs',\n",
       " '35 mins',\n",
       " '20 mins',\n",
       " '3 hrs 20 mins',\n",
       " '50 mins',\n",
       " '25 mins',\n",
       " '50 mins',\n",
       " '20 mins',\n",
       " '58 mins',\n",
       " '1 hr 5 mins',\n",
       " '20 mins',\n",
       " '2 hrs 15 mins',\n",
       " '45 mins',\n",
       " '2 hrs',\n",
       " '1 hr 15 mins',\n",
       " '20 mins',\n",
       " '4 hrs 15 mins',\n",
       " '5 hrs 40 mins',\n",
       " '1 hr']"
      ]
     },
     "execution_count": 12,
     "metadata": {},
     "output_type": "execute_result"
    }
   ],
   "source": [
    "time=[]\n",
    "c=0\n",
    "for i in main:\n",
    "    time.append(i.text)\n",
    "    c+=1\n",
    "time.insert(0,np.nan)\n",
    "time"
   ]
  },
  {
   "cell_type": "code",
   "execution_count": 85,
   "id": "a0ce29f9",
   "metadata": {
    "scrolled": true
   },
   "outputs": [
    {
     "data": {
      "text/plain": [
       "'https://www.skinnytaste.com/italian-sub-salad/'"
      ]
     },
     "execution_count": 85,
     "metadata": {},
     "output_type": "execute_result"
    }
   ],
   "source": [
    "# a=re.findall('href=\\\"(.+)\"><img',str(url[0]))\n",
    "# a[0].split(' ')[0].split('\"')[0]"
   ]
  },
  {
   "cell_type": "code",
   "execution_count": 13,
   "id": "eeb13aca",
   "metadata": {},
   "outputs": [
    {
     "data": {
      "text/plain": [
       "['https://www.skinnytaste.com/18-easy-taco-recipes/',\n",
       " 'https://www.skinnytaste.com/braised-brisket-with-potatoes-and/',\n",
       " 'https://www.skinnytaste.com/baked-steelhead-trout/',\n",
       " 'https://www.skinnytaste.com/lighter-chicken-saltimbocca/',\n",
       " 'https://www.skinnytaste.com/italian-shrimp-salad/',\n",
       " 'https://www.skinnytaste.com/ground-turkey-tacos/',\n",
       " 'https://www.skinnytaste.com/shrimp-pad-thai-on-lighter-side/',\n",
       " 'https://www.skinnytaste.com/chicken-pasta-primavera/',\n",
       " 'https://www.skinnytaste.com/grilled-salmon-with-avocado-bruschetta/',\n",
       " 'https://www.skinnytaste.com/chicken-marbella/',\n",
       " 'https://www.skinnytaste.com/one-pot-chicken-and-orzo/',\n",
       " 'https://www.skinnytaste.com/italian-sub-salad/',\n",
       " 'https://www.skinnytaste.com/baked-honey-mustard-ham/',\n",
       " 'https://www.skinnytaste.com/risotto-primavera/',\n",
       " 'https://www.skinnytaste.com/honey-baked-spiral-ham/',\n",
       " 'https://www.skinnytaste.com/spanish-tortilla-with-pimenton-aioli/',\n",
       " 'https://www.skinnytaste.com/fish-cakes/',\n",
       " 'https://www.skinnytaste.com/slow-cooker-chicken-and-lentil-soup/',\n",
       " 'https://www.skinnytaste.com/crock-pot-corned-beef-and-cabbage/',\n",
       " 'https://www.skinnytaste.com/butternut-squash-soup/']"
      ]
     },
     "execution_count": 13,
     "metadata": {},
     "output_type": "execute_result"
    }
   ],
   "source": [
    "#links\n",
    "url=soup.find_all('div',class_='post-thumb-img-content post-thumb')\n",
    "sub_url=[]\n",
    "for i in url:\n",
    "    a=re.findall('href=\\\"(.+)\"><img',str(i))\n",
    "    sub_url.append(a[0].split(' ')[0].split('\"')[0])\n",
    "sub_url"
   ]
  },
  {
   "cell_type": "raw",
   "id": "01bcb52f",
   "metadata": {
    "collapsed": true
   },
   "source": [
    "# converting above urls(html) into string data\n",
    "\n",
    "for i in sub_url:\n",
    "    page=requests.get(i)\n",
    "    soup = BeautifulSoup(page.text)\n",
    "\n",
    "soup.text"
   ]
  },
  {
   "cell_type": "raw",
   "id": "de7680bd",
   "metadata": {
    "collapsed": true
   },
   "source": [
    "for i in sub_url:\n",
    "    page=requests.get(i)\n",
    "    soup = BeautifulSoup(page.text)\n",
    "    urls=[]\n",
    "    single=[]\n",
    "    for j in soup.find_all('a'):\n",
    "        single.append(j.text)\n",
    "        urls.append(single)\n",
    "urls\n"
   ]
  },
  {
   "cell_type": "code",
   "execution_count": null,
   "id": "5111b98f",
   "metadata": {},
   "outputs": [],
   "source": []
  },
  {
   "cell_type": "code",
   "execution_count": null,
   "id": "cba7bf8a",
   "metadata": {},
   "outputs": [],
   "source": []
  },
  {
   "cell_type": "code",
   "execution_count": 11,
   "id": "d648b6cf",
   "metadata": {},
   "outputs": [],
   "source": [
    "# urls=[]\n",
    "# single=[]\n",
    "# for j in soup.find_all('a'):\n",
    "#     single.append(j.text)\n",
    "\n",
    "#     urls.append(single)\n",
    "# single\n",
    "# urls[0]"
   ]
  },
  {
   "cell_type": "code",
   "execution_count": 14,
   "id": "c7a75448",
   "metadata": {},
   "outputs": [],
   "source": [
    "link='https://www.skinnytaste.com/braised-brisket-with-potatoes-and/'\n",
    "page=requests.get(link)\n",
    "soup = BeautifulSoup(page.text)\n",
    "#soup"
   ]
  },
  {
   "cell_type": "code",
   "execution_count": 15,
   "id": "06afc0b6",
   "metadata": {},
   "outputs": [
    {
     "data": {
      "text/plain": [
       "'Braised Brisket with Potatoes and Carrots'"
      ]
     },
     "execution_count": 15,
     "metadata": {},
     "output_type": "execute_result"
    }
   ],
   "source": [
    "#title\n",
    "soup.find_all('h1')[0].text"
   ]
  },
  {
   "cell_type": "code",
   "execution_count": 16,
   "id": "06620e47",
   "metadata": {},
   "outputs": [
    {
     "data": {
      "text/plain": [
       "'5'"
      ]
     },
     "execution_count": 16,
     "metadata": {},
     "output_type": "execute_result"
    }
   ],
   "source": [
    "#rating\n",
    "soup.find_all('span',class_='wprm-recipe-rating-average')[0].text"
   ]
  },
  {
   "cell_type": "code",
   "execution_count": 17,
   "id": "ba0312dc",
   "metadata": {},
   "outputs": [
    {
     "data": {
      "text/plain": [
       "'293'"
      ]
     },
     "execution_count": 17,
     "metadata": {},
     "output_type": "execute_result"
    }
   ],
   "source": [
    "#calories\n",
    "c=soup.find_all('span',class_='recipe-meta-value value-calories')[0].text\n",
    "c.split(' ')[1]"
   ]
  },
  {
   "cell_type": "code",
   "execution_count": 18,
   "id": "d54c9c50",
   "metadata": {},
   "outputs": [
    {
     "data": {
      "text/plain": [
       "'29'"
      ]
     },
     "execution_count": 18,
     "metadata": {},
     "output_type": "execute_result"
    }
   ],
   "source": [
    "#protein\n",
    "p=soup.find_all('span',class_='recipe-meta-value value-protein')[0].text\n",
    "p.split(' ')[1]"
   ]
  },
  {
   "cell_type": "code",
   "execution_count": 19,
   "id": "2f5da2c7",
   "metadata": {},
   "outputs": [
    {
     "data": {
      "text/plain": [
       "'29'"
      ]
     },
     "execution_count": 19,
     "metadata": {},
     "output_type": "execute_result"
    }
   ],
   "source": [
    "#carbs\n",
    "c=soup.find_all('span',class_='recipe-meta-value value-carbs')[0].text\n",
    "c.split(' ')[1]"
   ]
  },
  {
   "cell_type": "code",
   "execution_count": 20,
   "id": "2446ba73",
   "metadata": {},
   "outputs": [
    {
     "data": {
      "text/plain": [
       "'6.5'"
      ]
     },
     "execution_count": 20,
     "metadata": {},
     "output_type": "execute_result"
    }
   ],
   "source": [
    "#fats\n",
    "f=soup.find_all('span',class_='recipe-meta-value value-fat')[0].text\n",
    "f.split(' ')[1]"
   ]
  },
  {
   "cell_type": "code",
   "execution_count": 24,
   "id": "6828e712",
   "metadata": {},
   "outputs": [
    {
     "data": {
      "text/plain": [
       "'8'"
      ]
     },
     "execution_count": 24,
     "metadata": {},
     "output_type": "execute_result"
    }
   ],
   "source": [
    "#serving\n",
    "s=soup.find_all('span',class_='wprm-recipe-servings wprm-recipe-details wprm-recipe-servings-49576 wprm-recipe-servings-adjustable-disabled wprm-block-text-normal')\n",
    "s[0].text"
   ]
  },
  {
   "cell_type": "code",
   "execution_count": 23,
   "id": "1f2e3755",
   "metadata": {},
   "outputs": [
    {
     "data": {
      "text/plain": [
       "'Dinner'"
      ]
     },
     "execution_count": 23,
     "metadata": {},
     "output_type": "execute_result"
    }
   ],
   "source": [
    "#type\n",
    "t=soup.find_all('span',class_= 'wprm-recipe-course wprm-block-text-normal')\n",
    "t[0].text"
   ]
  },
  {
   "cell_type": "code",
   "execution_count": null,
   "id": "9b9f4bbf",
   "metadata": {},
   "outputs": [],
   "source": []
  },
  {
   "cell_type": "raw",
   "id": "6e79e557",
   "metadata": {},
   "source": [
    "#ingredients\n",
    "ii=soup.find_all('strong')\n",
    "re.findall('\\>(\\w+)',str(ii))"
   ]
  },
  {
   "cell_type": "raw",
   "id": "9af245bd",
   "metadata": {},
   "source": [
    "ii"
   ]
  },
  {
   "cell_type": "code",
   "execution_count": 2,
   "id": "25ded33e",
   "metadata": {},
   "outputs": [
    {
     "name": "stdout",
     "output_type": "stream",
     "text": [
      "<Response [200]>\n",
      "<Response [200]>\n",
      "<Response [200]>\n",
      "<Response [200]>\n",
      "<Response [200]>\n",
      "<Response [200]>\n",
      "<Response [200]>\n",
      "<Response [200]>\n",
      "<Response [200]>\n",
      "<Response [200]>\n",
      "195\n",
      "195\n"
     ]
    }
   ],
   "source": [
    "URL = ['https://www.skinnytaste.com/recipe-index/?_course=salad']\n",
    "Time = []\n",
    "sub_url = []\n",
    "\n",
    "for i in range(2, 11):\n",
    "    URL.append(URL[0] + '&_paged=' + str(i))  # 10 pages\n",
    "\n",
    "for j in URL:\n",
    "    page = requests.get(j)\n",
    "    soup = BeautifulSoup(page.text)\n",
    "    print(page)\n",
    "\n",
    "    for i in soup.find_all('article', class_='ast-archive-post'):\n",
    "        time= i.find('span', class_='wprm-total-time')\n",
    "        Time.append(time.text.strip() if time else np.nan)\n",
    "\n",
    "    for l in soup.find_all('div', class_='post-thumb-img-content post-thumb'):\n",
    "        a = re.findall('href=\\\"(.+)\"><img', str(l))\n",
    "        sub_url.append(a[0].split(' ')[0].split('\"')[0])\n",
    "        \n",
    "print(len(Time))  \n",
    "print(len(sub_url))"
   ]
  },
  {
   "cell_type": "code",
   "execution_count": 3,
   "id": "c5f77484",
   "metadata": {},
   "outputs": [
    {
     "name": "stdout",
     "output_type": "stream",
     "text": [
      "195\n",
      "195\n",
      "195\n",
      "195\n",
      "195\n",
      "195\n",
      "195\n",
      "195\n",
      "195\n",
      "195\n",
      "195\n",
      "195\n",
      "195\n",
      "195\n"
     ]
    }
   ],
   "source": [
    "Title=[]\n",
    "rating=[]\n",
    "protein=[]\n",
    "carbs=[]\n",
    "calories=[]\n",
    "fat=[]\n",
    "serving=[]\n",
    "type_of=[]\n",
    "cholesterol=[]\n",
    "sodium=[]\n",
    "fiber=[]\n",
    "sugar=[]\n",
    "pre_time=[]\n",
    "cook_time=[]\n",
    "    \n",
    "# Fetching sub-URLs inside the loop\n",
    "for sub in sub_url:\n",
    "    page1=requests.get(sub)\n",
    "    soup1=BeautifulSoup(page1.text)\n",
    "    \n",
    "    Title.append(soup1.find('h1').text)\n",
    "    \n",
    "    r=soup1.find('span',class_='wprm-recipe-rating-average')\n",
    "    rating.append(r.text if r else np.nan)\n",
    "    \n",
    "    cal=soup1.find('span',class_='recipe-meta-value value-calories')\n",
    "    calories.append(cal.text.split(' ')[1] if cal else np.nan)\n",
    "    \n",
    "    p=soup1.find('span',class_='recipe-meta-value value-protein')\n",
    "    protein.append(p.text.split(' ')[1] if p else np.nan)\n",
    "    \n",
    "    car=soup1.find('span',class_='recipe-meta-value value-carbs')\n",
    "    carbs.append(car.text.split(' ')[1] if car else np.nan)\n",
    "    \n",
    "    f=soup1.find('span',class_='recipe-meta-value value-fat')\n",
    "    fat.append(f.text.split(' ')[1] if f else np.nan)\n",
    "    \n",
    "    s=soup1.find('span',class_='wprm-recipe-details wprm-recipe-nutrition wprm-recipe-serving_size wprm-block-text-normal')\n",
    "    serving.append(s.text if s else np.nan)\n",
    "    \n",
    "    t=soup1.find('a',class_= 'tasty-link')\n",
    "    type_of.append(t.text if t else np.nan)\n",
    "    \n",
    "    c=soup1.find('span',class_='wprm-nutrition-label-text-nutrition-container wprm-nutrition-label-text-nutrition-container-cholesterol')\n",
    "    cholesterol.append(c.text.split(' ')[1] if c else np.nan)\n",
    "    \n",
    "    sod=soup1.find('span',class_='wprm-nutrition-label-text-nutrition-container wprm-nutrition-label-text-nutrition-container-sodium')\n",
    "    sodium.append(sod.text.split()[1] if sod else np.nan)\n",
    "    \n",
    "    f=soup1.find('span',class_='wprm-nutrition-label-text-nutrition-container wprm-nutrition-label-text-nutrition-container-fiber')\n",
    "    fiber.append(f.text.split()[1] if f else np.nan)\n",
    "    \n",
    "    ss=soup1.find('span',class_='wprm-nutrition-label-text-nutrition-container wprm-nutrition-label-text-nutrition-container-sugar')\n",
    "    sugar.append(ss.text.split()[1] if ss else np.nan)\n",
    "    \n",
    "    pt=soup1.find('span',class_='wprm-recipe-details wprm-recipe-details-minutes wprm-recipe-prep_time wprm-recipe-prep_time-minutes')\n",
    "    pre_time.append(pt.text.split()[0] if pt else np.nan)\n",
    "    \n",
    "    ct=soup1.find('span',class_='wprm-recipe-details wprm-recipe-details-minutes wprm-recipe-cook_time wprm-recipe-cook_time-minutes')\n",
    "    cook_time.append(ct.text.split()[0] if ct else np.nan)\n",
    "    \n",
    "    \n",
    "    \n",
    "print(len(Title))\n",
    "print(len(rating))\n",
    "print(len(protein))\n",
    "print(len(calories))\n",
    "print(len(carbs))\n",
    "print(len(fat))\n",
    "print(len(serving))\n",
    "print(len(type_of))\n",
    "print(len(cholesterol))\n",
    "print(len(sodium))\n",
    "print(len(fiber))\n",
    "print(len(sugar))\n",
    "print(len(pre_time))\n",
    "print(len(cook_time))\n",
    "\n"
   ]
  },
  {
   "cell_type": "code",
   "execution_count": null,
   "id": "257b864e",
   "metadata": {},
   "outputs": [],
   "source": []
  },
  {
   "cell_type": "code",
   "execution_count": 63,
   "id": "281feb4c",
   "metadata": {},
   "outputs": [
    {
     "data": {
      "text/plain": [
       "''"
      ]
     },
     "execution_count": 63,
     "metadata": {},
     "output_type": "execute_result"
    }
   ],
   "source": [
    "a=soup.find_all('article',class_='ast-archive-post')[10]\n",
    "a.find('span').text"
   ]
  },
  {
   "cell_type": "code",
   "execution_count": 62,
   "id": "b3429981",
   "metadata": {},
   "outputs": [
    {
     "data": {
      "text/plain": [
       "'15 mins'"
      ]
     },
     "execution_count": 62,
     "metadata": {},
     "output_type": "execute_result"
    }
   ],
   "source": [
    "a=soup.find_all('article',class_='ast-archive-post')[1]\n",
    "a.find('span').text"
   ]
  },
  {
   "cell_type": "code",
   "execution_count": 73,
   "id": "bbcd400a",
   "metadata": {},
   "outputs": [
    {
     "data": {
      "text/plain": [
       "[<h1 class=\"entry-title\">Green Goddess Potato Salad</h1>]"
      ]
     },
     "execution_count": 73,
     "metadata": {},
     "output_type": "execute_result"
    }
   ],
   "source": [
    "Title[0]"
   ]
  },
  {
   "cell_type": "markdown",
   "id": "696f3704",
   "metadata": {},
   "source": [
    "### creating dataframe"
   ]
  },
  {
   "cell_type": "code",
   "execution_count": 4,
   "id": "0c54f653",
   "metadata": {},
   "outputs": [],
   "source": [
    "import pandas as pd"
   ]
  },
  {
   "cell_type": "code",
   "execution_count": 5,
   "id": "dd7a962e",
   "metadata": {},
   "outputs": [
    {
     "data": {
      "text/html": [
       "<div>\n",
       "<style scoped>\n",
       "    .dataframe tbody tr th:only-of-type {\n",
       "        vertical-align: middle;\n",
       "    }\n",
       "\n",
       "    .dataframe tbody tr th {\n",
       "        vertical-align: top;\n",
       "    }\n",
       "\n",
       "    .dataframe thead th {\n",
       "        text-align: right;\n",
       "    }\n",
       "</style>\n",
       "<table border=\"1\" class=\"dataframe\">\n",
       "  <thead>\n",
       "    <tr style=\"text-align: right;\">\n",
       "      <th></th>\n",
       "      <th>Recipe_Name</th>\n",
       "      <th>Type</th>\n",
       "      <th>Serving</th>\n",
       "      <th>Protein</th>\n",
       "      <th>Fat</th>\n",
       "      <th>Carbs</th>\n",
       "      <th>Calories</th>\n",
       "      <th>cholesterol</th>\n",
       "      <th>sodium</th>\n",
       "      <th>fiber</th>\n",
       "      <th>sugar</th>\n",
       "      <th>Prepare time</th>\n",
       "      <th>cooking time</th>\n",
       "      <th>Total_Time</th>\n",
       "      <th>Ratings</th>\n",
       "    </tr>\n",
       "  </thead>\n",
       "  <tbody>\n",
       "    <tr>\n",
       "      <th>192</th>\n",
       "      <td>Autumn Salad with Pears and Gorgonzola</td>\n",
       "      <td>Lunch</td>\n",
       "      <td>1</td>\n",
       "      <td>4.5</td>\n",
       "      <td>12.5</td>\n",
       "      <td>10.5</td>\n",
       "      <td>160.5</td>\n",
       "      <td>NaN</td>\n",
       "      <td>NaN</td>\n",
       "      <td>2</td>\n",
       "      <td>2</td>\n",
       "      <td>5</td>\n",
       "      <td>NaN</td>\n",
       "      <td>5 mins</td>\n",
       "      <td>5</td>\n",
       "    </tr>\n",
       "    <tr>\n",
       "      <th>193</th>\n",
       "      <td>Grilled Zucchini and Tomato Salad – 0 pts</td>\n",
       "      <td>NaN</td>\n",
       "      <td>1</td>\n",
       "      <td>NaN</td>\n",
       "      <td>NaN</td>\n",
       "      <td>NaN</td>\n",
       "      <td>NaN</td>\n",
       "      <td>NaN</td>\n",
       "      <td>NaN</td>\n",
       "      <td>NaN</td>\n",
       "      <td>NaN</td>\n",
       "      <td>NaN</td>\n",
       "      <td>NaN</td>\n",
       "      <td>NaN</td>\n",
       "      <td>NaN</td>\n",
       "    </tr>\n",
       "    <tr>\n",
       "      <th>194</th>\n",
       "      <td>Mixed Baby Greens and Arugula with Blackberrie...</td>\n",
       "      <td>Lunch</td>\n",
       "      <td>1</td>\n",
       "      <td>2.1</td>\n",
       "      <td>14.1</td>\n",
       "      <td>6.9</td>\n",
       "      <td>155.6</td>\n",
       "      <td>NaN</td>\n",
       "      <td>14.8</td>\n",
       "      <td>2.8</td>\n",
       "      <td>2.8</td>\n",
       "      <td>NaN</td>\n",
       "      <td>NaN</td>\n",
       "      <td>NaN</td>\n",
       "      <td>5</td>\n",
       "    </tr>\n",
       "  </tbody>\n",
       "</table>\n",
       "</div>"
      ],
      "text/plain": [
       "                                           Recipe_Name   Type Serving Protein  \\\n",
       "192             Autumn Salad with Pears and Gorgonzola  Lunch       1     4.5   \n",
       "193          Grilled Zucchini and Tomato Salad – 0 pts    NaN       1     NaN   \n",
       "194  Mixed Baby Greens and Arugula with Blackberrie...  Lunch       1     2.1   \n",
       "\n",
       "      Fat Carbs Calories cholesterol sodium fiber sugar Prepare time  \\\n",
       "192  12.5  10.5    160.5         NaN    NaN     2     2            5   \n",
       "193   NaN   NaN      NaN         NaN    NaN   NaN   NaN          NaN   \n",
       "194  14.1   6.9    155.6         NaN   14.8   2.8   2.8          NaN   \n",
       "\n",
       "    cooking time Total_Time Ratings  \n",
       "192          NaN     5 mins       5  \n",
       "193          NaN        NaN     NaN  \n",
       "194          NaN        NaN       5  "
      ]
     },
     "execution_count": 5,
     "metadata": {},
     "output_type": "execute_result"
    }
   ],
   "source": [
    "df8=pd.DataFrame({'Recipe_Name':Title,\n",
    "                  \"Type\":type_of,\n",
    "                  'Serving':serving,\n",
    "                  \"Protein\":protein,\n",
    "                  \"Fat\":fat,\n",
    "                  \"Carbs\":carbs,\n",
    "                  \"Calories\":calories,\n",
    "                  'cholesterol':cholesterol,\n",
    "                  'sodium':sodium,\n",
    "                  'fiber':fiber,\n",
    "                  'sugar':sugar,\n",
    "                    'Prepare time':pre_time,\n",
    "                  'cooking time': cook_time,\n",
    "                  \"Total_Time\":Time,\n",
    "                  \"Ratings\":rating,\n",
    "\n",
    "                 \n",
    "                 \n",
    "                 })\n",
    "df8.tail(3)"
   ]
  },
  {
   "cell_type": "code",
   "execution_count": 6,
   "id": "321be647",
   "metadata": {},
   "outputs": [
    {
     "data": {
      "text/html": [
       "<div>\n",
       "<style scoped>\n",
       "    .dataframe tbody tr th:only-of-type {\n",
       "        vertical-align: middle;\n",
       "    }\n",
       "\n",
       "    .dataframe tbody tr th {\n",
       "        vertical-align: top;\n",
       "    }\n",
       "\n",
       "    .dataframe thead th {\n",
       "        text-align: right;\n",
       "    }\n",
       "</style>\n",
       "<table border=\"1\" class=\"dataframe\">\n",
       "  <thead>\n",
       "    <tr style=\"text-align: right;\">\n",
       "      <th></th>\n",
       "      <th>Recipe_Name</th>\n",
       "      <th>Type</th>\n",
       "      <th>Serving</th>\n",
       "      <th>Protein</th>\n",
       "      <th>Fat</th>\n",
       "      <th>Carbs</th>\n",
       "      <th>Calories</th>\n",
       "      <th>cholesterol</th>\n",
       "      <th>sodium</th>\n",
       "      <th>fiber</th>\n",
       "      <th>sugar</th>\n",
       "      <th>Prepare time</th>\n",
       "      <th>cooking time</th>\n",
       "      <th>Total_Time</th>\n",
       "      <th>Ratings</th>\n",
       "    </tr>\n",
       "  </thead>\n",
       "  <tbody>\n",
       "    <tr>\n",
       "      <th>0</th>\n",
       "      <td>Green Goddess Potato Salad</td>\n",
       "      <td>NaN</td>\n",
       "      <td>1</td>\n",
       "      <td>4.5</td>\n",
       "      <td>3.5</td>\n",
       "      <td>23</td>\n",
       "      <td>141</td>\n",
       "      <td>0.5</td>\n",
       "      <td>202</td>\n",
       "      <td>2.5</td>\n",
       "      <td>2.5</td>\n",
       "      <td>20</td>\n",
       "      <td>15</td>\n",
       "      <td>1 hr 35 mins</td>\n",
       "      <td>5</td>\n",
       "    </tr>\n",
       "    <tr>\n",
       "      <th>1</th>\n",
       "      <td>Italian Shrimp Salad</td>\n",
       "      <td>lunch</td>\n",
       "      <td>1</td>\n",
       "      <td>20</td>\n",
       "      <td>11.5</td>\n",
       "      <td>5</td>\n",
       "      <td>198</td>\n",
       "      <td>152</td>\n",
       "      <td>442.5</td>\n",
       "      <td>1.5</td>\n",
       "      <td>1</td>\n",
       "      <td>20</td>\n",
       "      <td>0</td>\n",
       "      <td>3 hrs 20 mins</td>\n",
       "      <td>4.86</td>\n",
       "    </tr>\n",
       "    <tr>\n",
       "      <th>2</th>\n",
       "      <td>Arugula Salad</td>\n",
       "      <td>NaN</td>\n",
       "      <td>1</td>\n",
       "      <td>3.5</td>\n",
       "      <td>8.5</td>\n",
       "      <td>2</td>\n",
       "      <td>96</td>\n",
       "      <td>5</td>\n",
       "      <td>161</td>\n",
       "      <td>0.5</td>\n",
       "      <td>1</td>\n",
       "      <td>5</td>\n",
       "      <td>0</td>\n",
       "      <td>5 mins</td>\n",
       "      <td>NaN</td>\n",
       "    </tr>\n",
       "    <tr>\n",
       "      <th>3</th>\n",
       "      <td>Italian Sub Salad</td>\n",
       "      <td>Dinner</td>\n",
       "      <td>2</td>\n",
       "      <td>22</td>\n",
       "      <td>19</td>\n",
       "      <td>11.5</td>\n",
       "      <td>298</td>\n",
       "      <td>71.5</td>\n",
       "      <td>1573.5</td>\n",
       "      <td>3</td>\n",
       "      <td>5.5</td>\n",
       "      <td>20</td>\n",
       "      <td>0</td>\n",
       "      <td>20 mins</td>\n",
       "      <td>5</td>\n",
       "    </tr>\n",
       "    <tr>\n",
       "      <th>4</th>\n",
       "      <td>Pea Salad</td>\n",
       "      <td>Lunch</td>\n",
       "      <td>1</td>\n",
       "      <td>5</td>\n",
       "      <td>4.5</td>\n",
       "      <td>8</td>\n",
       "      <td>89</td>\n",
       "      <td>11.5</td>\n",
       "      <td>150.5</td>\n",
       "      <td>2.5</td>\n",
       "      <td>1</td>\n",
       "      <td>10</td>\n",
       "      <td>18</td>\n",
       "      <td>28 mins</td>\n",
       "      <td>4.67</td>\n",
       "    </tr>\n",
       "    <tr>\n",
       "      <th>...</th>\n",
       "      <td>...</td>\n",
       "      <td>...</td>\n",
       "      <td>...</td>\n",
       "      <td>...</td>\n",
       "      <td>...</td>\n",
       "      <td>...</td>\n",
       "      <td>...</td>\n",
       "      <td>...</td>\n",
       "      <td>...</td>\n",
       "      <td>...</td>\n",
       "      <td>...</td>\n",
       "      <td>...</td>\n",
       "      <td>...</td>\n",
       "      <td>...</td>\n",
       "      <td>...</td>\n",
       "    </tr>\n",
       "    <tr>\n",
       "      <th>190</th>\n",
       "      <td>Pan Seared Scallops with Baby Greens and Citru...</td>\n",
       "      <td>lunch</td>\n",
       "      <td>1</td>\n",
       "      <td>20.5</td>\n",
       "      <td>9.5</td>\n",
       "      <td>8.5</td>\n",
       "      <td>212</td>\n",
       "      <td>42.5</td>\n",
       "      <td>206.5</td>\n",
       "      <td>1.5</td>\n",
       "      <td>4</td>\n",
       "      <td>NaN</td>\n",
       "      <td>NaN</td>\n",
       "      <td>NaN</td>\n",
       "      <td>5</td>\n",
       "    </tr>\n",
       "    <tr>\n",
       "      <th>191</th>\n",
       "      <td>Broccoli and Cauliflower Salad with Capers in ...</td>\n",
       "      <td>NaN</td>\n",
       "      <td>1</td>\n",
       "      <td>3.2</td>\n",
       "      <td>7</td>\n",
       "      <td>7.6</td>\n",
       "      <td>97</td>\n",
       "      <td>NaN</td>\n",
       "      <td>121.5</td>\n",
       "      <td>3.5</td>\n",
       "      <td>NaN</td>\n",
       "      <td>NaN</td>\n",
       "      <td>NaN</td>\n",
       "      <td>20 mins</td>\n",
       "      <td>NaN</td>\n",
       "    </tr>\n",
       "    <tr>\n",
       "      <th>192</th>\n",
       "      <td>Autumn Salad with Pears and Gorgonzola</td>\n",
       "      <td>Lunch</td>\n",
       "      <td>1</td>\n",
       "      <td>4.5</td>\n",
       "      <td>12.5</td>\n",
       "      <td>10.5</td>\n",
       "      <td>160.5</td>\n",
       "      <td>NaN</td>\n",
       "      <td>NaN</td>\n",
       "      <td>2</td>\n",
       "      <td>2</td>\n",
       "      <td>5</td>\n",
       "      <td>NaN</td>\n",
       "      <td>5 mins</td>\n",
       "      <td>5</td>\n",
       "    </tr>\n",
       "    <tr>\n",
       "      <th>193</th>\n",
       "      <td>Grilled Zucchini and Tomato Salad – 0 pts</td>\n",
       "      <td>NaN</td>\n",
       "      <td>1</td>\n",
       "      <td>NaN</td>\n",
       "      <td>NaN</td>\n",
       "      <td>NaN</td>\n",
       "      <td>NaN</td>\n",
       "      <td>NaN</td>\n",
       "      <td>NaN</td>\n",
       "      <td>NaN</td>\n",
       "      <td>NaN</td>\n",
       "      <td>NaN</td>\n",
       "      <td>NaN</td>\n",
       "      <td>NaN</td>\n",
       "      <td>NaN</td>\n",
       "    </tr>\n",
       "    <tr>\n",
       "      <th>194</th>\n",
       "      <td>Mixed Baby Greens and Arugula with Blackberrie...</td>\n",
       "      <td>Lunch</td>\n",
       "      <td>1</td>\n",
       "      <td>2.1</td>\n",
       "      <td>14.1</td>\n",
       "      <td>6.9</td>\n",
       "      <td>155.6</td>\n",
       "      <td>NaN</td>\n",
       "      <td>14.8</td>\n",
       "      <td>2.8</td>\n",
       "      <td>2.8</td>\n",
       "      <td>NaN</td>\n",
       "      <td>NaN</td>\n",
       "      <td>NaN</td>\n",
       "      <td>5</td>\n",
       "    </tr>\n",
       "  </tbody>\n",
       "</table>\n",
       "<p>195 rows × 15 columns</p>\n",
       "</div>"
      ],
      "text/plain": [
       "                                           Recipe_Name    Type Serving  \\\n",
       "0                           Green Goddess Potato Salad     NaN       1   \n",
       "1                                 Italian Shrimp Salad   lunch       1   \n",
       "2                                        Arugula Salad     NaN       1   \n",
       "3                                    Italian Sub Salad  Dinner       2   \n",
       "4                                            Pea Salad   Lunch       1   \n",
       "..                                                 ...     ...     ...   \n",
       "190  Pan Seared Scallops with Baby Greens and Citru...   lunch       1   \n",
       "191  Broccoli and Cauliflower Salad with Capers in ...     NaN       1   \n",
       "192             Autumn Salad with Pears and Gorgonzola   Lunch       1   \n",
       "193          Grilled Zucchini and Tomato Salad – 0 pts     NaN       1   \n",
       "194  Mixed Baby Greens and Arugula with Blackberrie...   Lunch       1   \n",
       "\n",
       "    Protein   Fat Carbs Calories cholesterol  sodium fiber sugar Prepare time  \\\n",
       "0       4.5   3.5    23      141         0.5     202   2.5   2.5           20   \n",
       "1        20  11.5     5      198         152   442.5   1.5     1           20   \n",
       "2       3.5   8.5     2       96           5     161   0.5     1            5   \n",
       "3        22    19  11.5      298        71.5  1573.5     3   5.5           20   \n",
       "4         5   4.5     8       89        11.5   150.5   2.5     1           10   \n",
       "..      ...   ...   ...      ...         ...     ...   ...   ...          ...   \n",
       "190    20.5   9.5   8.5      212        42.5   206.5   1.5     4          NaN   \n",
       "191     3.2     7   7.6       97         NaN   121.5   3.5   NaN          NaN   \n",
       "192     4.5  12.5  10.5    160.5         NaN     NaN     2     2            5   \n",
       "193     NaN   NaN   NaN      NaN         NaN     NaN   NaN   NaN          NaN   \n",
       "194     2.1  14.1   6.9    155.6         NaN    14.8   2.8   2.8          NaN   \n",
       "\n",
       "    cooking time     Total_Time Ratings  \n",
       "0             15   1 hr 35 mins       5  \n",
       "1              0  3 hrs 20 mins    4.86  \n",
       "2              0         5 mins     NaN  \n",
       "3              0        20 mins       5  \n",
       "4             18        28 mins    4.67  \n",
       "..           ...            ...     ...  \n",
       "190          NaN            NaN       5  \n",
       "191          NaN        20 mins     NaN  \n",
       "192          NaN         5 mins       5  \n",
       "193          NaN            NaN     NaN  \n",
       "194          NaN            NaN       5  \n",
       "\n",
       "[195 rows x 15 columns]"
      ]
     },
     "execution_count": 6,
     "metadata": {},
     "output_type": "execute_result"
    }
   ],
   "source": [
    "df8"
   ]
  },
  {
   "cell_type": "code",
   "execution_count": 9,
   "id": "71677615",
   "metadata": {},
   "outputs": [
    {
     "data": {
      "text/html": [
       "<div>\n",
       "<style scoped>\n",
       "    .dataframe tbody tr th:only-of-type {\n",
       "        vertical-align: middle;\n",
       "    }\n",
       "\n",
       "    .dataframe tbody tr th {\n",
       "        vertical-align: top;\n",
       "    }\n",
       "\n",
       "    .dataframe thead th {\n",
       "        text-align: right;\n",
       "    }\n",
       "</style>\n",
       "<table border=\"1\" class=\"dataframe\">\n",
       "  <thead>\n",
       "    <tr style=\"text-align: right;\">\n",
       "      <th></th>\n",
       "      <th>Unnamed: 0</th>\n",
       "      <th>Recipe_Name</th>\n",
       "      <th>Type</th>\n",
       "      <th>Serving</th>\n",
       "      <th>Protein</th>\n",
       "      <th>Fat</th>\n",
       "      <th>Carbs</th>\n",
       "      <th>Calories</th>\n",
       "      <th>cholesterol</th>\n",
       "      <th>sodium</th>\n",
       "      <th>fiber</th>\n",
       "      <th>sugar</th>\n",
       "      <th>Prepare time</th>\n",
       "      <th>cooking time</th>\n",
       "      <th>Total_Time</th>\n",
       "      <th>Ratings</th>\n",
       "    </tr>\n",
       "  </thead>\n",
       "  <tbody>\n",
       "    <tr>\n",
       "      <th>0</th>\n",
       "      <td>0</td>\n",
       "      <td>Green Goddess Potato Salad</td>\n",
       "      <td>NaN</td>\n",
       "      <td>1.0</td>\n",
       "      <td>4.5</td>\n",
       "      <td>3.5</td>\n",
       "      <td>23.0</td>\n",
       "      <td>141.0</td>\n",
       "      <td>0.5</td>\n",
       "      <td>202.0</td>\n",
       "      <td>2.5</td>\n",
       "      <td>2.5</td>\n",
       "      <td>20.0</td>\n",
       "      <td>15.0</td>\n",
       "      <td>1 hr 35 mins</td>\n",
       "      <td>5.00</td>\n",
       "    </tr>\n",
       "    <tr>\n",
       "      <th>1</th>\n",
       "      <td>1</td>\n",
       "      <td>Italian Shrimp Salad</td>\n",
       "      <td>lunch</td>\n",
       "      <td>1.0</td>\n",
       "      <td>20.0</td>\n",
       "      <td>11.5</td>\n",
       "      <td>5.0</td>\n",
       "      <td>198.0</td>\n",
       "      <td>152.0</td>\n",
       "      <td>442.5</td>\n",
       "      <td>1.5</td>\n",
       "      <td>1.0</td>\n",
       "      <td>20.0</td>\n",
       "      <td>0.0</td>\n",
       "      <td>3 hrs 20 mins</td>\n",
       "      <td>4.86</td>\n",
       "    </tr>\n",
       "    <tr>\n",
       "      <th>2</th>\n",
       "      <td>2</td>\n",
       "      <td>Arugula Salad</td>\n",
       "      <td>NaN</td>\n",
       "      <td>1.0</td>\n",
       "      <td>3.5</td>\n",
       "      <td>8.5</td>\n",
       "      <td>2.0</td>\n",
       "      <td>96.0</td>\n",
       "      <td>5.0</td>\n",
       "      <td>161.0</td>\n",
       "      <td>0.5</td>\n",
       "      <td>1.0</td>\n",
       "      <td>5.0</td>\n",
       "      <td>0.0</td>\n",
       "      <td>5 mins</td>\n",
       "      <td>NaN</td>\n",
       "    </tr>\n",
       "    <tr>\n",
       "      <th>3</th>\n",
       "      <td>3</td>\n",
       "      <td>Italian Sub Salad</td>\n",
       "      <td>Dinner</td>\n",
       "      <td>2.0</td>\n",
       "      <td>22.0</td>\n",
       "      <td>19.0</td>\n",
       "      <td>11.5</td>\n",
       "      <td>298.0</td>\n",
       "      <td>71.5</td>\n",
       "      <td>1573.5</td>\n",
       "      <td>3.0</td>\n",
       "      <td>5.5</td>\n",
       "      <td>20.0</td>\n",
       "      <td>0.0</td>\n",
       "      <td>20 mins</td>\n",
       "      <td>5.00</td>\n",
       "    </tr>\n",
       "    <tr>\n",
       "      <th>4</th>\n",
       "      <td>4</td>\n",
       "      <td>Pea Salad</td>\n",
       "      <td>Lunch</td>\n",
       "      <td>1.0</td>\n",
       "      <td>5.0</td>\n",
       "      <td>4.5</td>\n",
       "      <td>8.0</td>\n",
       "      <td>89.0</td>\n",
       "      <td>11.5</td>\n",
       "      <td>150.5</td>\n",
       "      <td>2.5</td>\n",
       "      <td>1.0</td>\n",
       "      <td>10.0</td>\n",
       "      <td>18.0</td>\n",
       "      <td>28 mins</td>\n",
       "      <td>4.67</td>\n",
       "    </tr>\n",
       "    <tr>\n",
       "      <th>...</th>\n",
       "      <td>...</td>\n",
       "      <td>...</td>\n",
       "      <td>...</td>\n",
       "      <td>...</td>\n",
       "      <td>...</td>\n",
       "      <td>...</td>\n",
       "      <td>...</td>\n",
       "      <td>...</td>\n",
       "      <td>...</td>\n",
       "      <td>...</td>\n",
       "      <td>...</td>\n",
       "      <td>...</td>\n",
       "      <td>...</td>\n",
       "      <td>...</td>\n",
       "      <td>...</td>\n",
       "      <td>...</td>\n",
       "    </tr>\n",
       "    <tr>\n",
       "      <th>190</th>\n",
       "      <td>190</td>\n",
       "      <td>Pan Seared Scallops with Baby Greens and Citru...</td>\n",
       "      <td>lunch</td>\n",
       "      <td>1.0</td>\n",
       "      <td>20.5</td>\n",
       "      <td>9.5</td>\n",
       "      <td>8.5</td>\n",
       "      <td>212.0</td>\n",
       "      <td>42.5</td>\n",
       "      <td>206.5</td>\n",
       "      <td>1.5</td>\n",
       "      <td>4.0</td>\n",
       "      <td>NaN</td>\n",
       "      <td>NaN</td>\n",
       "      <td>NaN</td>\n",
       "      <td>5.00</td>\n",
       "    </tr>\n",
       "    <tr>\n",
       "      <th>191</th>\n",
       "      <td>191</td>\n",
       "      <td>Broccoli and Cauliflower Salad with Capers in ...</td>\n",
       "      <td>NaN</td>\n",
       "      <td>1.0</td>\n",
       "      <td>3.2</td>\n",
       "      <td>7.0</td>\n",
       "      <td>7.6</td>\n",
       "      <td>97.0</td>\n",
       "      <td>NaN</td>\n",
       "      <td>121.5</td>\n",
       "      <td>3.5</td>\n",
       "      <td>NaN</td>\n",
       "      <td>NaN</td>\n",
       "      <td>NaN</td>\n",
       "      <td>20 mins</td>\n",
       "      <td>NaN</td>\n",
       "    </tr>\n",
       "    <tr>\n",
       "      <th>192</th>\n",
       "      <td>192</td>\n",
       "      <td>Autumn Salad with Pears and Gorgonzola</td>\n",
       "      <td>Lunch</td>\n",
       "      <td>1.0</td>\n",
       "      <td>4.5</td>\n",
       "      <td>12.5</td>\n",
       "      <td>10.5</td>\n",
       "      <td>160.5</td>\n",
       "      <td>NaN</td>\n",
       "      <td>NaN</td>\n",
       "      <td>2.0</td>\n",
       "      <td>2.0</td>\n",
       "      <td>5.0</td>\n",
       "      <td>NaN</td>\n",
       "      <td>5 mins</td>\n",
       "      <td>5.00</td>\n",
       "    </tr>\n",
       "    <tr>\n",
       "      <th>193</th>\n",
       "      <td>193</td>\n",
       "      <td>Grilled Zucchini and Tomato Salad – 0 pts</td>\n",
       "      <td>NaN</td>\n",
       "      <td>1.0</td>\n",
       "      <td>NaN</td>\n",
       "      <td>NaN</td>\n",
       "      <td>NaN</td>\n",
       "      <td>NaN</td>\n",
       "      <td>NaN</td>\n",
       "      <td>NaN</td>\n",
       "      <td>NaN</td>\n",
       "      <td>NaN</td>\n",
       "      <td>NaN</td>\n",
       "      <td>NaN</td>\n",
       "      <td>NaN</td>\n",
       "      <td>NaN</td>\n",
       "    </tr>\n",
       "    <tr>\n",
       "      <th>194</th>\n",
       "      <td>194</td>\n",
       "      <td>Mixed Baby Greens and Arugula with Blackberrie...</td>\n",
       "      <td>Lunch</td>\n",
       "      <td>1.0</td>\n",
       "      <td>2.1</td>\n",
       "      <td>14.1</td>\n",
       "      <td>6.9</td>\n",
       "      <td>155.6</td>\n",
       "      <td>NaN</td>\n",
       "      <td>14.8</td>\n",
       "      <td>2.8</td>\n",
       "      <td>2.8</td>\n",
       "      <td>NaN</td>\n",
       "      <td>NaN</td>\n",
       "      <td>NaN</td>\n",
       "      <td>5.00</td>\n",
       "    </tr>\n",
       "  </tbody>\n",
       "</table>\n",
       "<p>195 rows × 16 columns</p>\n",
       "</div>"
      ],
      "text/plain": [
       "     Unnamed: 0                                        Recipe_Name    Type  \\\n",
       "0             0                         Green Goddess Potato Salad     NaN   \n",
       "1             1                               Italian Shrimp Salad   lunch   \n",
       "2             2                                      Arugula Salad     NaN   \n",
       "3             3                                  Italian Sub Salad  Dinner   \n",
       "4             4                                          Pea Salad   Lunch   \n",
       "..          ...                                                ...     ...   \n",
       "190         190  Pan Seared Scallops with Baby Greens and Citru...   lunch   \n",
       "191         191  Broccoli and Cauliflower Salad with Capers in ...     NaN   \n",
       "192         192             Autumn Salad with Pears and Gorgonzola   Lunch   \n",
       "193         193          Grilled Zucchini and Tomato Salad – 0 pts     NaN   \n",
       "194         194  Mixed Baby Greens and Arugula with Blackberrie...   Lunch   \n",
       "\n",
       "     Serving  Protein   Fat  Carbs  Calories  cholesterol  sodium  fiber  \\\n",
       "0        1.0      4.5   3.5   23.0     141.0          0.5   202.0    2.5   \n",
       "1        1.0     20.0  11.5    5.0     198.0        152.0   442.5    1.5   \n",
       "2        1.0      3.5   8.5    2.0      96.0          5.0   161.0    0.5   \n",
       "3        2.0     22.0  19.0   11.5     298.0         71.5  1573.5    3.0   \n",
       "4        1.0      5.0   4.5    8.0      89.0         11.5   150.5    2.5   \n",
       "..       ...      ...   ...    ...       ...          ...     ...    ...   \n",
       "190      1.0     20.5   9.5    8.5     212.0         42.5   206.5    1.5   \n",
       "191      1.0      3.2   7.0    7.6      97.0          NaN   121.5    3.5   \n",
       "192      1.0      4.5  12.5   10.5     160.5          NaN     NaN    2.0   \n",
       "193      1.0      NaN   NaN    NaN       NaN          NaN     NaN    NaN   \n",
       "194      1.0      2.1  14.1    6.9     155.6          NaN    14.8    2.8   \n",
       "\n",
       "     sugar  Prepare time  cooking time     Total_Time  Ratings  \n",
       "0      2.5          20.0          15.0   1 hr 35 mins     5.00  \n",
       "1      1.0          20.0           0.0  3 hrs 20 mins     4.86  \n",
       "2      1.0           5.0           0.0         5 mins      NaN  \n",
       "3      5.5          20.0           0.0        20 mins     5.00  \n",
       "4      1.0          10.0          18.0        28 mins     4.67  \n",
       "..     ...           ...           ...            ...      ...  \n",
       "190    4.0           NaN           NaN            NaN     5.00  \n",
       "191    NaN           NaN           NaN        20 mins      NaN  \n",
       "192    2.0           5.0           NaN         5 mins     5.00  \n",
       "193    NaN           NaN           NaN            NaN      NaN  \n",
       "194    2.8           NaN           NaN            NaN     5.00  \n",
       "\n",
       "[195 rows x 16 columns]"
      ]
     },
     "execution_count": 9,
     "metadata": {},
     "output_type": "execute_result"
    }
   ],
   "source": [
    "#df8.to_csv(\"salads.csv\")\n",
    "df8=pd.read_csv('salads.csv',)\n",
    "df8"
   ]
  },
  {
   "cell_type": "code",
   "execution_count": 15,
   "id": "60d75d4e",
   "metadata": {},
   "outputs": [
    {
     "data": {
      "text/plain": [
       "array([nan, 'lunch', 'Dinner', 'Lunch', 'breakfast', 'dinner',\n",
       "       'Lettuce Wraps', 'burger', 'Quinoa', 'Asparagus', 'canned tuna',\n",
       "       'Instant Pot', 'appetizer', 'quinoa', 'lettuce wraps', 'asparagus',\n",
       "       'Lettuce wraps', 'Appetizer', 'Canned Tuna'], dtype=object)"
      ]
     },
     "execution_count": 15,
     "metadata": {},
     "output_type": "execute_result"
    }
   ],
   "source": [
    "df8['Type'].unique()"
   ]
  },
  {
   "cell_type": "code",
   "execution_count": 14,
   "id": "f60fdf72",
   "metadata": {},
   "outputs": [],
   "source": [
    "df8['Type']=df8['Type'].fillna(method='ffill')"
   ]
  },
  {
   "cell_type": "code",
   "execution_count": null,
   "id": "6868fc2a",
   "metadata": {},
   "outputs": [],
   "source": []
  }
 ],
 "metadata": {
  "kernelspec": {
   "display_name": "Python 3 (ipykernel)",
   "language": "python",
   "name": "python3"
  },
  "language_info": {
   "codemirror_mode": {
    "name": "ipython",
    "version": 3
   },
   "file_extension": ".py",
   "mimetype": "text/x-python",
   "name": "python",
   "nbconvert_exporter": "python",
   "pygments_lexer": "ipython3",
   "version": "3.11.5"
  }
 },
 "nbformat": 4,
 "nbformat_minor": 5
}
