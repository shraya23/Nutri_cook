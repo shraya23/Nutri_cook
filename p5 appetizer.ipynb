{
 "cells": [
  {
   "cell_type": "code",
   "execution_count": 1,
   "id": "7c7793bf",
   "metadata": {},
   "outputs": [],
   "source": [
    "import re\n",
    "from bs4 import BeautifulSoup\n",
    "import requests\n",
    "import numpy as np\n",
    "import pandas as pd"
   ]
  },
  {
   "cell_type": "code",
   "execution_count": 2,
   "id": "87822c9c",
   "metadata": {},
   "outputs": [
    {
     "data": {
      "text/plain": [
       "<Response [200]>"
      ]
     },
     "execution_count": 2,
     "metadata": {},
     "output_type": "execute_result"
    }
   ],
   "source": [
    "url1='https://www.skinnytaste.com/recipe-index/?_course=appetizers'\n",
    "page=requests.get(url1)\n",
    "page"
   ]
  },
  {
   "cell_type": "code",
   "execution_count": 3,
   "id": "1f2883b9",
   "metadata": {},
   "outputs": [],
   "source": [
    "soup = BeautifulSoup(page.text)\n",
    "#soup"
   ]
  },
  {
   "cell_type": "code",
   "execution_count": 4,
   "id": "807bfcec",
   "metadata": {},
   "outputs": [],
   "source": [
    "main=soup.find_all('span',class_='wprm-total-time')\n",
    "#main"
   ]
  },
  {
   "cell_type": "code",
   "execution_count": 1,
   "id": "739394c9",
   "metadata": {},
   "outputs": [
    {
     "data": {
      "text/plain": [
       "['https://www.skinnytaste.com/recipe-index/?_course=appetizers',\n",
       " 'https://www.skinnytaste.com/recipe-index/?_course=appetizers&_paged=2',\n",
       " 'https://www.skinnytaste.com/recipe-index/?_course=appetizers&_paged=3',\n",
       " 'https://www.skinnytaste.com/recipe-index/?_course=appetizers&_paged=4',\n",
       " 'https://www.skinnytaste.com/recipe-index/?_course=appetizers&_paged=5',\n",
       " 'https://www.skinnytaste.com/recipe-index/?_course=appetizers&_paged=6',\n",
       " 'https://www.skinnytaste.com/recipe-index/?_course=appetizers&_paged=7',\n",
       " 'https://www.skinnytaste.com/recipe-index/?_course=appetizers&_paged=8',\n",
       " 'https://www.skinnytaste.com/recipe-index/?_course=appetizers&_paged=9',\n",
       " 'https://www.skinnytaste.com/recipe-index/?_course=appetizers&_paged=10']"
      ]
     },
     "execution_count": 1,
     "metadata": {},
     "output_type": "execute_result"
    }
   ],
   "source": [
    "URL=['https://www.skinnytaste.com/recipe-index/?_course=appetizers']\n",
    "for i in range(2,11):\n",
    "    URL.append(URL[0]+'&_paged='+str(i))\n",
    "    \n",
    "    \n",
    "URL"
   ]
  },
  {
   "cell_type": "markdown",
   "id": "527386c1",
   "metadata": {},
   "source": [
    "## Time- column"
   ]
  },
  {
   "cell_type": "code",
   "execution_count": 13,
   "id": "43e0504a",
   "metadata": {},
   "outputs": [],
   "source": [
    "import numpy as np"
   ]
  },
  {
   "cell_type": "code",
   "execution_count": 6,
   "id": "ae763bf6",
   "metadata": {},
   "outputs": [
    {
     "data": {
      "text/plain": [
       "(['3 hrs 20 mins',\n",
       "  '25 mins',\n",
       "  '1 hr 15 mins',\n",
       "  '20 mins',\n",
       "  '35 mins',\n",
       "  '15 mins',\n",
       "  '30 mins',\n",
       "  '30 mins',\n",
       "  '30 mins',\n",
       "  '52 mins',\n",
       "  '1 hr',\n",
       "  '15 mins',\n",
       "  '1 hr 15 mins',\n",
       "  '20 mins',\n",
       "  '1 hr 20 mins',\n",
       "  '20 mins',\n",
       "  '40 mins',\n",
       "  '25 mins',\n",
       "  '5 mins',\n",
       "  '5 mins'],\n",
       " 20)"
      ]
     },
     "execution_count": 6,
     "metadata": {},
     "output_type": "execute_result"
    }
   ],
   "source": [
    "time=[]\n",
    "c=0\n",
    "for i in main:\n",
    "    time.append(i.text)\n",
    "    c+=1\n",
    "#time.insert(1,np.nan)\n",
    "time"
   ]
  },
  {
   "cell_type": "code",
   "execution_count": 85,
   "id": "a0ce29f9",
   "metadata": {
    "scrolled": true
   },
   "outputs": [
    {
     "data": {
      "text/plain": [
       "'https://www.skinnytaste.com/italian-sub-salad/'"
      ]
     },
     "execution_count": 85,
     "metadata": {},
     "output_type": "execute_result"
    }
   ],
   "source": [
    "# a=re.findall('href=\\\"(.+)\"><img',str(url[0]))\n",
    "# a[0].split(' ')[0].split('\"')[0]"
   ]
  },
  {
   "cell_type": "code",
   "execution_count": 7,
   "id": "eeb13aca",
   "metadata": {},
   "outputs": [
    {
     "data": {
      "text/plain": [
       "['https://www.skinnytaste.com/italian-shrimp-salad/',\n",
       " 'https://www.skinnytaste.com/deviled-eggs/',\n",
       " 'https://www.skinnytaste.com/spanish-tortilla-with-pimenton-aioli/',\n",
       " 'https://www.skinnytaste.com/crispy-butter-beans/',\n",
       " 'https://www.skinnytaste.com/bloody-mary-deviled-eggs/',\n",
       " 'https://www.skinnytaste.com/white-bean-crostini/',\n",
       " 'https://www.skinnytaste.com/cacio-e-pepe-cheese-crisps/',\n",
       " 'https://www.skinnytaste.com/sugar-plum-baked-brie-bites/',\n",
       " 'https://www.skinnytaste.com/spinach-artichoke-crostini/',\n",
       " 'https://www.skinnytaste.com/mummy-hot-dogs/',\n",
       " 'https://www.skinnytaste.com/mummy-jalapeno-poppers/',\n",
       " 'https://www.skinnytaste.com/hummus/',\n",
       " 'https://www.skinnytaste.com/corn-salsa-with-lime/',\n",
       " 'https://www.skinnytaste.com/spicy-salmon-sushi-pizza/',\n",
       " 'https://www.skinnytaste.com/grilled-pesto-chicken-and-tomato-kebabs/',\n",
       " 'https://www.skinnytaste.com/vegetable-charcuterie-board/',\n",
       " 'https://www.skinnytaste.com/chicken-summer-rolls/',\n",
       " 'https://www.skinnytaste.com/skinny-artichoke-dip/',\n",
       " 'https://www.skinnytaste.com/guacamole-recipe/',\n",
       " 'https://www.skinnytaste.com/pico-de-gallo-salsa-0-pts/']"
      ]
     },
     "execution_count": 7,
     "metadata": {},
     "output_type": "execute_result"
    }
   ],
   "source": [
    "#links\n",
    "url=soup.find_all('div',class_='post-thumb-img-content post-thumb')\n",
    "sub_url=[]\n",
    "for i in url:\n",
    "    a=re.findall('href=\\\"(.+)\"><img',str(i))\n",
    "    sub_url.append(a[0].split(' ')[0].split('\"')[0])\n",
    "sub_url"
   ]
  },
  {
   "cell_type": "raw",
   "id": "01bcb52f",
   "metadata": {
    "collapsed": true
   },
   "source": [
    "# converting above urls(html) into string data\n",
    "\n",
    "for i in sub_url:\n",
    "    page=requests.get(i)\n",
    "    soup = BeautifulSoup(page.text)\n",
    "\n",
    "soup.text"
   ]
  },
  {
   "cell_type": "raw",
   "id": "de7680bd",
   "metadata": {
    "collapsed": true
   },
   "source": [
    "for i in sub_url:\n",
    "    page=requests.get(i)\n",
    "    soup = BeautifulSoup(page.text)\n",
    "    urls=[]\n",
    "    single=[]\n",
    "    for j in soup.find_all('a'):\n",
    "        single.append(j.text)\n",
    "        urls.append(single)\n",
    "urls\n"
   ]
  },
  {
   "cell_type": "code",
   "execution_count": null,
   "id": "5111b98f",
   "metadata": {},
   "outputs": [],
   "source": []
  },
  {
   "cell_type": "code",
   "execution_count": null,
   "id": "cba7bf8a",
   "metadata": {},
   "outputs": [],
   "source": []
  },
  {
   "cell_type": "code",
   "execution_count": 11,
   "id": "d648b6cf",
   "metadata": {},
   "outputs": [],
   "source": [
    "# urls=[]\n",
    "# single=[]\n",
    "# for j in soup.find_all('a'):\n",
    "#     single.append(j.text)\n",
    "\n",
    "#     urls.append(single)\n",
    "# single\n",
    "# urls[0]"
   ]
  },
  {
   "cell_type": "code",
   "execution_count": 8,
   "id": "c7a75448",
   "metadata": {},
   "outputs": [],
   "source": [
    "link='https://www.skinnytaste.com/italian-shrimp-salad/'\n",
    "page=requests.get(link)\n",
    "soup = BeautifulSoup(page.text)\n",
    "#soup"
   ]
  },
  {
   "cell_type": "code",
   "execution_count": 9,
   "id": "06afc0b6",
   "metadata": {},
   "outputs": [
    {
     "data": {
      "text/plain": [
       "'Italian Shrimp Salad'"
      ]
     },
     "execution_count": 9,
     "metadata": {},
     "output_type": "execute_result"
    }
   ],
   "source": [
    "#title\n",
    "soup.find_all('h1')[0].text"
   ]
  },
  {
   "cell_type": "code",
   "execution_count": 10,
   "id": "06620e47",
   "metadata": {},
   "outputs": [
    {
     "data": {
      "text/plain": [
       "'4.86'"
      ]
     },
     "execution_count": 10,
     "metadata": {},
     "output_type": "execute_result"
    }
   ],
   "source": [
    "#rating\n",
    "soup.find_all('span',class_='wprm-recipe-rating-average')[0].text"
   ]
  },
  {
   "cell_type": "code",
   "execution_count": 11,
   "id": "ba0312dc",
   "metadata": {},
   "outputs": [
    {
     "data": {
      "text/plain": [
       "'198'"
      ]
     },
     "execution_count": 11,
     "metadata": {},
     "output_type": "execute_result"
    }
   ],
   "source": [
    "#calories\n",
    "c=soup.find_all('span',class_='recipe-meta-value value-calories')[0].text\n",
    "c.split(' ')[1]"
   ]
  },
  {
   "cell_type": "code",
   "execution_count": 12,
   "id": "d54c9c50",
   "metadata": {},
   "outputs": [
    {
     "data": {
      "text/plain": [
       "'20'"
      ]
     },
     "execution_count": 12,
     "metadata": {},
     "output_type": "execute_result"
    }
   ],
   "source": [
    "#protein\n",
    "p=soup.find_all('span',class_='recipe-meta-value value-protein')[0].text\n",
    "p.split(' ')[1]"
   ]
  },
  {
   "cell_type": "code",
   "execution_count": 13,
   "id": "2f5da2c7",
   "metadata": {},
   "outputs": [
    {
     "data": {
      "text/plain": [
       "'5'"
      ]
     },
     "execution_count": 13,
     "metadata": {},
     "output_type": "execute_result"
    }
   ],
   "source": [
    "#carbs\n",
    "c=soup.find_all('span',class_='recipe-meta-value value-carbs')[0].text\n",
    "c.split(' ')[1]"
   ]
  },
  {
   "cell_type": "code",
   "execution_count": 14,
   "id": "2446ba73",
   "metadata": {},
   "outputs": [
    {
     "data": {
      "text/plain": [
       "'11.5'"
      ]
     },
     "execution_count": 14,
     "metadata": {},
     "output_type": "execute_result"
    }
   ],
   "source": [
    "#fats\n",
    "f=soup.find_all('span',class_='recipe-meta-value value-fat')[0].text\n",
    "f.split(' ')[1]"
   ]
  },
  {
   "cell_type": "code",
   "execution_count": 17,
   "id": "6828e712",
   "metadata": {},
   "outputs": [
    {
     "data": {
      "text/plain": [
       "'6 servings'"
      ]
     },
     "execution_count": 17,
     "metadata": {},
     "output_type": "execute_result"
    }
   ],
   "source": [
    "#serving\n",
    "s=soup.find_all('span',class_='wprm-recipe-servings-with-unit')\n",
    "s[0].text"
   ]
  },
  {
   "cell_type": "code",
   "execution_count": 18,
   "id": "1f2e3755",
   "metadata": {},
   "outputs": [
    {
     "data": {
      "text/plain": [
       "'Appetizer, Lunch, Meal Prep, Salad'"
      ]
     },
     "execution_count": 18,
     "metadata": {},
     "output_type": "execute_result"
    }
   ],
   "source": [
    "#type\n",
    "t=soup.find_all('span',class_= 'wprm-recipe-course wprm-block-text-normal')\n",
    "t[0].text"
   ]
  },
  {
   "cell_type": "code",
   "execution_count": null,
   "id": "9b9f4bbf",
   "metadata": {},
   "outputs": [],
   "source": []
  },
  {
   "cell_type": "raw",
   "id": "6e79e557",
   "metadata": {},
   "source": [
    "#ingredients\n",
    "ii=soup.find_all('strong')\n",
    "re.findall('\\>(\\w+)',str(ii))"
   ]
  },
  {
   "cell_type": "raw",
   "id": "9af245bd",
   "metadata": {},
   "source": [
    "appetizers"
   ]
  },
  {
   "cell_type": "code",
   "execution_count": 2,
   "id": "25ded33e",
   "metadata": {},
   "outputs": [
    {
     "name": "stdout",
     "output_type": "stream",
     "text": [
      "<Response [200]>\n",
      "<Response [200]>\n",
      "<Response [200]>\n",
      "<Response [200]>\n",
      "<Response [200]>\n",
      "<Response [200]>\n",
      "<Response [200]>\n",
      "<Response [200]>\n",
      "<Response [200]>\n",
      "<Response [200]>\n",
      "186\n",
      "186\n"
     ]
    }
   ],
   "source": [
    "URL = ['https://www.skinnytaste.com/recipe-index/?_course=appetizers']\n",
    "Time = []\n",
    "sub_url = []\n",
    "\n",
    "for i in range(2, 11):\n",
    "    URL.append(URL[0] + '&_paged=' + str(i))  # 10 pages\n",
    "\n",
    "for j in URL:\n",
    "    page = requests.get(j)\n",
    "    soup = BeautifulSoup(page.text)\n",
    "    print(page)\n",
    "\n",
    "    for i in soup.find_all('article', class_='ast-archive-post'):\n",
    "        time= i.find('span', class_='wprm-total-time')\n",
    "        Time.append(time.text.strip() if time else np.nan)\n",
    "\n",
    "    for l in soup.find_all('div', class_='post-thumb-img-content post-thumb'):\n",
    "        a = re.findall('href=\\\"(.+)\"><img', str(l))\n",
    "        sub_url.append(a[0].split(' ')[0].split('\"')[0])\n",
    "        \n",
    "print(len(Time))  \n",
    "print(len(sub_url))"
   ]
  },
  {
   "cell_type": "code",
   "execution_count": 3,
   "id": "c5f77484",
   "metadata": {},
   "outputs": [
    {
     "name": "stdout",
     "output_type": "stream",
     "text": [
      "186\n",
      "186\n",
      "186\n",
      "186\n",
      "186\n",
      "186\n",
      "186\n",
      "186\n",
      "186\n",
      "186\n",
      "186\n",
      "186\n",
      "186\n",
      "186\n"
     ]
    }
   ],
   "source": [
    "Title=[]\n",
    "rating=[]\n",
    "protein=[]\n",
    "carbs=[]\n",
    "calories=[]\n",
    "fat=[]\n",
    "serving=[]\n",
    "type_of=[]\n",
    "cholesterol=[]\n",
    "sodium=[]\n",
    "fiber=[]\n",
    "sugar=[]\n",
    "pre_time=[]\n",
    "cook_time=[]\n",
    "    \n",
    "# Fetching sub-URLs inside the loop\n",
    "for sub in sub_url:\n",
    "    page1=requests.get(sub)\n",
    "    soup1=BeautifulSoup(page1.text)\n",
    "    \n",
    "    Title.append(soup1.find('h1').text)\n",
    "    \n",
    "    r=soup1.find('span',class_='wprm-recipe-rating-average')\n",
    "    rating.append(r.text if r else np.nan)\n",
    "    \n",
    "    cal=soup1.find('span',class_='recipe-meta-value value-calories')\n",
    "    calories.append(cal.text.split(' ')[1] if cal else np.nan)\n",
    "    \n",
    "    p=soup1.find('span',class_='recipe-meta-value value-protein')\n",
    "    protein.append(p.text.split(' ')[1] if p else np.nan)\n",
    "    \n",
    "    car=soup1.find('span',class_='recipe-meta-value value-carbs')\n",
    "    carbs.append(car.text.split(' ')[1] if car else np.nan)\n",
    "    \n",
    "    f=soup1.find('span',class_='recipe-meta-value value-fat')\n",
    "    fat.append(f.text.split(' ')[1] if f else np.nan)\n",
    "    \n",
    "    s=soup1.find('span',class_='wprm-recipe-details wprm-recipe-nutrition wprm-recipe-serving_size wprm-block-text-normal')\n",
    "    serving.append(s.text if s else np.nan)\n",
    "    \n",
    "    t=soup1.find('a',class_= 'tasty-link')\n",
    "    type_of.append(t.text if t else np.nan)\n",
    "    \n",
    "    c=soup1.find('span',class_='wprm-nutrition-label-text-nutrition-container wprm-nutrition-label-text-nutrition-container-cholesterol')\n",
    "    cholesterol.append(c.text.split(' ')[1] if c else np.nan)\n",
    "    \n",
    "    sod=soup1.find('span',class_='wprm-nutrition-label-text-nutrition-container wprm-nutrition-label-text-nutrition-container-sodium')\n",
    "    sodium.append(sod.text.split()[1] if sod else np.nan)\n",
    "    \n",
    "    f=soup1.find('span',class_='wprm-nutrition-label-text-nutrition-container wprm-nutrition-label-text-nutrition-container-fiber')\n",
    "    fiber.append(f.text.split()[1] if f else np.nan)\n",
    "    \n",
    "    ss=soup1.find('span',class_='wprm-nutrition-label-text-nutrition-container wprm-nutrition-label-text-nutrition-container-sugar')\n",
    "    sugar.append(ss.text.split()[1] if ss else np.nan)\n",
    "    \n",
    "    pt=soup1.find('span',class_='wprm-recipe-details wprm-recipe-details-minutes wprm-recipe-prep_time wprm-recipe-prep_time-minutes')\n",
    "    pre_time.append(pt.text.split()[0] if pt else np.nan)\n",
    "    \n",
    "    ct=soup1.find('span',class_='wprm-recipe-details wprm-recipe-details-minutes wprm-recipe-cook_time wprm-recipe-cook_time-minutes')\n",
    "    cook_time.append(ct.text.split()[0] if ct else np.nan)\n",
    "    \n",
    "    \n",
    "    \n",
    "print(len(Title))\n",
    "print(len(rating))\n",
    "print(len(protein))\n",
    "print(len(calories))\n",
    "print(len(carbs))\n",
    "print(len(fat))\n",
    "print(len(serving))\n",
    "print(len(type_of))\n",
    "print(len(cholesterol))\n",
    "print(len(sodium))\n",
    "print(len(fiber))\n",
    "print(len(sugar))\n",
    "print(len(pre_time))\n",
    "print(len(cook_time))\n",
    "\n"
   ]
  },
  {
   "cell_type": "code",
   "execution_count": 4,
   "id": "22e8eca3",
   "metadata": {},
   "outputs": [
    {
     "data": {
      "text/html": [
       "<div>\n",
       "<style scoped>\n",
       "    .dataframe tbody tr th:only-of-type {\n",
       "        vertical-align: middle;\n",
       "    }\n",
       "\n",
       "    .dataframe tbody tr th {\n",
       "        vertical-align: top;\n",
       "    }\n",
       "\n",
       "    .dataframe thead th {\n",
       "        text-align: right;\n",
       "    }\n",
       "</style>\n",
       "<table border=\"1\" class=\"dataframe\">\n",
       "  <thead>\n",
       "    <tr style=\"text-align: right;\">\n",
       "      <th></th>\n",
       "      <th>Recipe_Name</th>\n",
       "      <th>Type</th>\n",
       "      <th>Serving</th>\n",
       "      <th>Protein</th>\n",
       "      <th>Fat</th>\n",
       "      <th>Carbs</th>\n",
       "      <th>Calories</th>\n",
       "      <th>cholesterol</th>\n",
       "      <th>sodium</th>\n",
       "      <th>fiber</th>\n",
       "      <th>sugar</th>\n",
       "      <th>Prepare time</th>\n",
       "      <th>cooking time</th>\n",
       "      <th>Total_Time</th>\n",
       "      <th>Ratings</th>\n",
       "    </tr>\n",
       "  </thead>\n",
       "  <tbody>\n",
       "    <tr>\n",
       "      <th>183</th>\n",
       "      <td>Mussels in Basil Cream Sauce</td>\n",
       "      <td>Appetizer</td>\n",
       "      <td>14</td>\n",
       "      <td>20.6</td>\n",
       "      <td>24</td>\n",
       "      <td>11.7</td>\n",
       "      <td>370.6</td>\n",
       "      <td>NaN</td>\n",
       "      <td>973.1</td>\n",
       "      <td>0.4</td>\n",
       "      <td>2.1</td>\n",
       "      <td>NaN</td>\n",
       "      <td>NaN</td>\n",
       "      <td>NaN</td>\n",
       "      <td>5</td>\n",
       "    </tr>\n",
       "    <tr>\n",
       "      <th>184</th>\n",
       "      <td>Skinny Buffalo Wings</td>\n",
       "      <td>dinner</td>\n",
       "      <td>2</td>\n",
       "      <td>19</td>\n",
       "      <td>13.5</td>\n",
       "      <td>4</td>\n",
       "      <td>204</td>\n",
       "      <td>56.5</td>\n",
       "      <td>812</td>\n",
       "      <td>0.6</td>\n",
       "      <td>1</td>\n",
       "      <td>5</td>\n",
       "      <td>20</td>\n",
       "      <td>55 mins</td>\n",
       "      <td>4.55</td>\n",
       "    </tr>\n",
       "    <tr>\n",
       "      <th>185</th>\n",
       "      <td>Baked Tostones</td>\n",
       "      <td>appetizer</td>\n",
       "      <td>1</td>\n",
       "      <td>1.1</td>\n",
       "      <td>4.8</td>\n",
       "      <td>38.2</td>\n",
       "      <td>184</td>\n",
       "      <td>NaN</td>\n",
       "      <td>6.6</td>\n",
       "      <td>2.7</td>\n",
       "      <td>17.5</td>\n",
       "      <td>20</td>\n",
       "      <td>25</td>\n",
       "      <td>45 mins</td>\n",
       "      <td>3.67</td>\n",
       "    </tr>\n",
       "  </tbody>\n",
       "</table>\n",
       "</div>"
      ],
      "text/plain": [
       "                      Recipe_Name       Type Serving Protein   Fat Carbs  \\\n",
       "183  Mussels in Basil Cream Sauce  Appetizer      14    20.6    24  11.7   \n",
       "184          Skinny Buffalo Wings     dinner       2      19  13.5     4   \n",
       "185                Baked Tostones  appetizer       1     1.1   4.8  38.2   \n",
       "\n",
       "    Calories cholesterol sodium fiber sugar Prepare time cooking time  \\\n",
       "183    370.6         NaN  973.1   0.4   2.1          NaN          NaN   \n",
       "184      204        56.5    812   0.6     1            5           20   \n",
       "185      184         NaN    6.6   2.7  17.5           20           25   \n",
       "\n",
       "    Total_Time Ratings  \n",
       "183        NaN       5  \n",
       "184    55 mins    4.55  \n",
       "185    45 mins    3.67  "
      ]
     },
     "execution_count": 4,
     "metadata": {},
     "output_type": "execute_result"
    }
   ],
   "source": [
    "df5=pd.DataFrame({'Recipe_Name':Title,\n",
    "                  \"Type\":type_of,\n",
    "                  'Serving':serving,\n",
    "                  \"Protein\":protein,\n",
    "                  \"Fat\":fat,\n",
    "                  \"Carbs\":carbs,\n",
    "                  \"Calories\":calories,\n",
    "                  'cholesterol':cholesterol,\n",
    "                  'sodium':sodium,\n",
    "                  'fiber':fiber,\n",
    "                  'sugar':sugar,\n",
    "                    'Prepare time':pre_time,\n",
    "                  'cooking time': cook_time,\n",
    "                  \"Total_Time\":Time,\n",
    "                  \"Ratings\":rating,\n",
    "\n",
    "                 \n",
    "                 \n",
    "                 })\n",
    "df5.tail(3)"
   ]
  },
  {
   "cell_type": "code",
   "execution_count": 5,
   "id": "98bc6030",
   "metadata": {},
   "outputs": [],
   "source": [
    "#df5.to_csv(\"appetizers.csv\")"
   ]
  },
  {
   "cell_type": "code",
   "execution_count": 6,
   "id": "257b864e",
   "metadata": {},
   "outputs": [
    {
     "data": {
      "text/html": [
       "<div>\n",
       "<style scoped>\n",
       "    .dataframe tbody tr th:only-of-type {\n",
       "        vertical-align: middle;\n",
       "    }\n",
       "\n",
       "    .dataframe tbody tr th {\n",
       "        vertical-align: top;\n",
       "    }\n",
       "\n",
       "    .dataframe thead th {\n",
       "        text-align: right;\n",
       "    }\n",
       "</style>\n",
       "<table border=\"1\" class=\"dataframe\">\n",
       "  <thead>\n",
       "    <tr style=\"text-align: right;\">\n",
       "      <th></th>\n",
       "      <th>Recipe_Name</th>\n",
       "      <th>Type</th>\n",
       "      <th>Serving</th>\n",
       "      <th>Protein</th>\n",
       "      <th>Fat</th>\n",
       "      <th>Carbs</th>\n",
       "      <th>Calories</th>\n",
       "      <th>cholesterol</th>\n",
       "      <th>sodium</th>\n",
       "      <th>fiber</th>\n",
       "      <th>sugar</th>\n",
       "      <th>Prepare time</th>\n",
       "      <th>cooking time</th>\n",
       "      <th>Total_Time</th>\n",
       "      <th>Ratings</th>\n",
       "    </tr>\n",
       "  </thead>\n",
       "  <tbody>\n",
       "    <tr>\n",
       "      <th>0</th>\n",
       "      <td>Italian Shrimp Salad</td>\n",
       "      <td>lunch</td>\n",
       "      <td>1.0</td>\n",
       "      <td>20.0</td>\n",
       "      <td>11.5</td>\n",
       "      <td>5.0</td>\n",
       "      <td>198.0</td>\n",
       "      <td>152.0</td>\n",
       "      <td>442.5</td>\n",
       "      <td>1.5</td>\n",
       "      <td>1.0</td>\n",
       "      <td>20.0</td>\n",
       "      <td>0.0</td>\n",
       "      <td>3 hrs 20 mins</td>\n",
       "      <td>4.86</td>\n",
       "    </tr>\n",
       "    <tr>\n",
       "      <th>1</th>\n",
       "      <td>Deviled Eggs</td>\n",
       "      <td>appetizer</td>\n",
       "      <td>2.0</td>\n",
       "      <td>6.3</td>\n",
       "      <td>7.5</td>\n",
       "      <td>1.0</td>\n",
       "      <td>96.8</td>\n",
       "      <td>187.0</td>\n",
       "      <td>156.1</td>\n",
       "      <td>NaN</td>\n",
       "      <td>0.3</td>\n",
       "      <td>10.0</td>\n",
       "      <td>15.0</td>\n",
       "      <td>25 mins</td>\n",
       "      <td>4.78</td>\n",
       "    </tr>\n",
       "    <tr>\n",
       "      <th>2</th>\n",
       "      <td>Spanish Tortilla with Pimenton Aioli</td>\n",
       "      <td>appetizer</td>\n",
       "      <td>1.0</td>\n",
       "      <td>9.0</td>\n",
       "      <td>14.5</td>\n",
       "      <td>21.5</td>\n",
       "      <td>247.0</td>\n",
       "      <td>188.0</td>\n",
       "      <td>363.5</td>\n",
       "      <td>2.0</td>\n",
       "      <td>2.5</td>\n",
       "      <td>15.0</td>\n",
       "      <td>NaN</td>\n",
       "      <td>1 hr 15 mins</td>\n",
       "      <td>4.44</td>\n",
       "    </tr>\n",
       "    <tr>\n",
       "      <th>3</th>\n",
       "      <td>Crispy Butter Beans</td>\n",
       "      <td>appetizer</td>\n",
       "      <td>1.0</td>\n",
       "      <td>8.5</td>\n",
       "      <td>8.0</td>\n",
       "      <td>27.5</td>\n",
       "      <td>187.0</td>\n",
       "      <td>NaN</td>\n",
       "      <td>777.0</td>\n",
       "      <td>8.5</td>\n",
       "      <td>3.0</td>\n",
       "      <td>5.0</td>\n",
       "      <td>15.0</td>\n",
       "      <td>20 mins</td>\n",
       "      <td>4.34</td>\n",
       "    </tr>\n",
       "    <tr>\n",
       "      <th>4</th>\n",
       "      <td>Bloody Mary Deviled Eggs</td>\n",
       "      <td>Appetizer</td>\n",
       "      <td>2.0</td>\n",
       "      <td>9.0</td>\n",
       "      <td>7.5</td>\n",
       "      <td>1.5</td>\n",
       "      <td>113.0</td>\n",
       "      <td>197.5</td>\n",
       "      <td>1289.5</td>\n",
       "      <td>0.5</td>\n",
       "      <td>1.0</td>\n",
       "      <td>15.0</td>\n",
       "      <td>20.0</td>\n",
       "      <td>35 mins</td>\n",
       "      <td>5.00</td>\n",
       "    </tr>\n",
       "    <tr>\n",
       "      <th>...</th>\n",
       "      <td>...</td>\n",
       "      <td>...</td>\n",
       "      <td>...</td>\n",
       "      <td>...</td>\n",
       "      <td>...</td>\n",
       "      <td>...</td>\n",
       "      <td>...</td>\n",
       "      <td>...</td>\n",
       "      <td>...</td>\n",
       "      <td>...</td>\n",
       "      <td>...</td>\n",
       "      <td>...</td>\n",
       "      <td>...</td>\n",
       "      <td>...</td>\n",
       "      <td>...</td>\n",
       "    </tr>\n",
       "    <tr>\n",
       "      <th>181</th>\n",
       "      <td>Mozzarella Basil and Tomato Skewers</td>\n",
       "      <td>appetizer</td>\n",
       "      <td>1.0</td>\n",
       "      <td>7.3</td>\n",
       "      <td>7.2</td>\n",
       "      <td>3.3</td>\n",
       "      <td>106.1</td>\n",
       "      <td>NaN</td>\n",
       "      <td>137.1</td>\n",
       "      <td>0.6</td>\n",
       "      <td>0.1</td>\n",
       "      <td>NaN</td>\n",
       "      <td>NaN</td>\n",
       "      <td>NaN</td>\n",
       "      <td>NaN</td>\n",
       "    </tr>\n",
       "    <tr>\n",
       "      <th>182</th>\n",
       "      <td>Chickpea and Roasted Pepper Dip</td>\n",
       "      <td>Appetizer</td>\n",
       "      <td>1.0</td>\n",
       "      <td>6.0</td>\n",
       "      <td>5.0</td>\n",
       "      <td>28.0</td>\n",
       "      <td>171.0</td>\n",
       "      <td>NaN</td>\n",
       "      <td>323.0</td>\n",
       "      <td>5.0</td>\n",
       "      <td>NaN</td>\n",
       "      <td>NaN</td>\n",
       "      <td>NaN</td>\n",
       "      <td>NaN</td>\n",
       "      <td>5.00</td>\n",
       "    </tr>\n",
       "    <tr>\n",
       "      <th>183</th>\n",
       "      <td>Mussels in Basil Cream Sauce</td>\n",
       "      <td>Appetizer</td>\n",
       "      <td>14.0</td>\n",
       "      <td>20.6</td>\n",
       "      <td>24.0</td>\n",
       "      <td>11.7</td>\n",
       "      <td>370.6</td>\n",
       "      <td>NaN</td>\n",
       "      <td>973.1</td>\n",
       "      <td>0.4</td>\n",
       "      <td>2.1</td>\n",
       "      <td>NaN</td>\n",
       "      <td>NaN</td>\n",
       "      <td>NaN</td>\n",
       "      <td>5.00</td>\n",
       "    </tr>\n",
       "    <tr>\n",
       "      <th>184</th>\n",
       "      <td>Skinny Buffalo Wings</td>\n",
       "      <td>dinner</td>\n",
       "      <td>2.0</td>\n",
       "      <td>19.0</td>\n",
       "      <td>13.5</td>\n",
       "      <td>4.0</td>\n",
       "      <td>204.0</td>\n",
       "      <td>56.5</td>\n",
       "      <td>812.0</td>\n",
       "      <td>0.6</td>\n",
       "      <td>1.0</td>\n",
       "      <td>5.0</td>\n",
       "      <td>20.0</td>\n",
       "      <td>55 mins</td>\n",
       "      <td>4.55</td>\n",
       "    </tr>\n",
       "    <tr>\n",
       "      <th>185</th>\n",
       "      <td>Baked Tostones</td>\n",
       "      <td>appetizer</td>\n",
       "      <td>1.0</td>\n",
       "      <td>1.1</td>\n",
       "      <td>4.8</td>\n",
       "      <td>38.2</td>\n",
       "      <td>184.0</td>\n",
       "      <td>NaN</td>\n",
       "      <td>6.6</td>\n",
       "      <td>2.7</td>\n",
       "      <td>17.5</td>\n",
       "      <td>20.0</td>\n",
       "      <td>25.0</td>\n",
       "      <td>45 mins</td>\n",
       "      <td>3.67</td>\n",
       "    </tr>\n",
       "  </tbody>\n",
       "</table>\n",
       "<p>186 rows × 15 columns</p>\n",
       "</div>"
      ],
      "text/plain": [
       "                              Recipe_Name       Type  Serving  Protein   Fat  \\\n",
       "0                    Italian Shrimp Salad      lunch      1.0     20.0  11.5   \n",
       "1                            Deviled Eggs  appetizer      2.0      6.3   7.5   \n",
       "2    Spanish Tortilla with Pimenton Aioli  appetizer      1.0      9.0  14.5   \n",
       "3                     Crispy Butter Beans  appetizer      1.0      8.5   8.0   \n",
       "4                Bloody Mary Deviled Eggs  Appetizer      2.0      9.0   7.5   \n",
       "..                                    ...        ...      ...      ...   ...   \n",
       "181   Mozzarella Basil and Tomato Skewers  appetizer      1.0      7.3   7.2   \n",
       "182       Chickpea and Roasted Pepper Dip  Appetizer      1.0      6.0   5.0   \n",
       "183          Mussels in Basil Cream Sauce  Appetizer     14.0     20.6  24.0   \n",
       "184                  Skinny Buffalo Wings     dinner      2.0     19.0  13.5   \n",
       "185                        Baked Tostones  appetizer      1.0      1.1   4.8   \n",
       "\n",
       "     Carbs  Calories  cholesterol  sodium  fiber  sugar  Prepare time  \\\n",
       "0      5.0     198.0        152.0   442.5    1.5    1.0          20.0   \n",
       "1      1.0      96.8        187.0   156.1    NaN    0.3          10.0   \n",
       "2     21.5     247.0        188.0   363.5    2.0    2.5          15.0   \n",
       "3     27.5     187.0          NaN   777.0    8.5    3.0           5.0   \n",
       "4      1.5     113.0        197.5  1289.5    0.5    1.0          15.0   \n",
       "..     ...       ...          ...     ...    ...    ...           ...   \n",
       "181    3.3     106.1          NaN   137.1    0.6    0.1           NaN   \n",
       "182   28.0     171.0          NaN   323.0    5.0    NaN           NaN   \n",
       "183   11.7     370.6          NaN   973.1    0.4    2.1           NaN   \n",
       "184    4.0     204.0         56.5   812.0    0.6    1.0           5.0   \n",
       "185   38.2     184.0          NaN     6.6    2.7   17.5          20.0   \n",
       "\n",
       "     cooking time     Total_Time  Ratings  \n",
       "0             0.0  3 hrs 20 mins     4.86  \n",
       "1            15.0        25 mins     4.78  \n",
       "2             NaN   1 hr 15 mins     4.44  \n",
       "3            15.0        20 mins     4.34  \n",
       "4            20.0        35 mins     5.00  \n",
       "..            ...            ...      ...  \n",
       "181           NaN            NaN      NaN  \n",
       "182           NaN            NaN     5.00  \n",
       "183           NaN            NaN     5.00  \n",
       "184          20.0        55 mins     4.55  \n",
       "185          25.0        45 mins     3.67  \n",
       "\n",
       "[186 rows x 15 columns]"
      ]
     },
     "execution_count": 6,
     "metadata": {},
     "output_type": "execute_result"
    }
   ],
   "source": [
    "\n",
    "df5=pd.read_csv('appetizers.csv',index_col=0)\n",
    "df5"
   ]
  },
  {
   "cell_type": "code",
   "execution_count": 3,
   "id": "1a44bd9c",
   "metadata": {},
   "outputs": [
    {
     "data": {
      "text/plain": [
       "array(['lunch', 'appetizer', 'Appetizer', 'Dinner', 'dinner', 'asparagus',\n",
       "       'boneless chicken thighs', nan, 'Lettuce Wraps', 'snacks',\n",
       "       'canned tuna', 'Asparagus', 'Cauliflower Rice', 'burger',\n",
       "       'breakfast', 'cauliflower rice'], dtype=object)"
      ]
     },
     "execution_count": 3,
     "metadata": {},
     "output_type": "execute_result"
    }
   ],
   "source": [
    "df5['Type'].unique()"
   ]
  },
  {
   "cell_type": "code",
   "execution_count": 6,
   "id": "33c55c78",
   "metadata": {},
   "outputs": [
    {
     "data": {
      "text/plain": [
       "0          lunch\n",
       "1      appetizer\n",
       "2      appetizer\n",
       "3      appetizer\n",
       "4      Appetizer\n",
       "         ...    \n",
       "181    appetizer\n",
       "182    Appetizer\n",
       "183    Appetizer\n",
       "184       dinner\n",
       "185    appetizer\n",
       "Name: Type, Length: 186, dtype: object"
      ]
     },
     "execution_count": 6,
     "metadata": {},
     "output_type": "execute_result"
    }
   ],
   "source": [
    "df5['Type'].fillna(method='bfill')"
   ]
  },
  {
   "cell_type": "code",
   "execution_count": null,
   "id": "c2b2f521",
   "metadata": {},
   "outputs": [],
   "source": [
    "df5.to_csv(\"appetizers.csv\")\n"
   ]
  }
 ],
 "metadata": {
  "kernelspec": {
   "display_name": "Python 3 (ipykernel)",
   "language": "python",
   "name": "python3"
  },
  "language_info": {
   "codemirror_mode": {
    "name": "ipython",
    "version": 3
   },
   "file_extension": ".py",
   "mimetype": "text/x-python",
   "name": "python",
   "nbconvert_exporter": "python",
   "pygments_lexer": "ipython3",
   "version": "3.11.5"
  }
 },
 "nbformat": 4,
 "nbformat_minor": 5
}
